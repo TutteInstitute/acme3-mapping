{
 "cells": [
  {
   "cell_type": "markdown",
   "id": "5ccf48b4-85d6-49bd-8a38-dad6460aa45e",
   "metadata": {},
   "source": [
    "# Gather and explore the ACME 3 dataset"
   ]
  },
  {
   "cell_type": "markdown",
   "id": "0503b1dc-76eb-411a-92f4-4889493d0da2",
   "metadata": {},
   "source": [
    "The ACME3 dataset is composed of [host-based](https://en.wikipedia.org/wiki/Host-based_intrusion_detection_system) telemetry gathered from a laboratory experiment.\n",
    "It was captured over the month of November 2023 by a research team at the Lawrence Livermore National Laboratory.\n",
    "The data was collected on a small general-purpose Windows network built on AWS for this purpose,\n",
    "and equipped with a [Microsoft Domain Controller](https://en.wikipedia.org/wiki/Domain_controller_(Windows)) to make it look and behave closer to an enterprise network.\n",
    "Collaborators of the data collection team were invited to come and do what they could of their work on this network,\n",
    "so as to generate natural user activity\n",
    "(as opposed to simulated user activity, which is often used for such experiments).\n",
    "The team used the open-source [Wintap](https://github.com/LLNL/Wintap) to generate and collect the telemetry.\n",
    "The researchers also deployed bespoke [Putty SSH clients](https://www.putty.org/) modified to behave like [backdoored](https://en.wikipedia.org/wiki/Backdoor_(computing)) software,\n",
    "naming it cannily as `PuttyX.exe`,\n",
    "to capture its behaviour as _malicious activity_."
   ]
  },
  {
   "cell_type": "markdown",
   "id": "581ee036-f81b-4773-8e9e-305461db393f",
   "metadata": {},
   "source": [
    "In this series of notebooks, we will embed subsets of this telemetry into vector spaces and draw _data maps_ of these embeddings.\n",
    "The goal is to build multiple perspectives towards gaining an understanding of the interplay between the processes whose behaviour was captured.\n",
    "We will not focus on the detection of PuttyX activity."
   ]
  },
  {
   "cell_type": "markdown",
   "id": "31949539-9422-43ef-ac7c-7faa4c650d34",
   "metadata": {},
   "source": [
    "---\n",
    "\n",
    "**Goals of this notebook**\n",
    "\n",
    "1. Download the main ACME3 summary dataset.\n",
    "2. Engineer the data subset in support to these experiments.\n",
    "\n",
    "---"
   ]
  },
  {
   "cell_type": "code",
   "execution_count": 1,
   "id": "51448224-cfaa-4810-9d75-1c1af4e64d9c",
   "metadata": {},
   "outputs": [],
   "source": [
    "import duckdb\n",
    "import numpy as np\n",
    "import os\n",
    "import pandas as pd\n",
    "import re\n",
    "import requests as rq\n",
    "import tarfile\n",
    "from tqdm.auto import tqdm"
   ]
  },
  {
   "cell_type": "markdown",
   "id": "e052f3f2-0be8-450c-b39a-93f58594be10",
   "metadata": {},
   "source": [
    "The ACME3 dataset has been released as open data, under [this license](https://www.llnl.gov/disclaimer).\n",
    "One can gather the whole raw data,\n",
    "the the data curators have put together a _summary dataset_ that assembles all the information we will focus on today.\n",
    "The whole data archive weighs in not unreasonably at 14 GB."
   ]
  },
  {
   "cell_type": "code",
   "execution_count": 2,
   "id": "89f0f8fa-b7a4-4e7b-b3b3-f3839764e06c",
   "metadata": {},
   "outputs": [
    {
     "data": {
      "application/vnd.jupyter.widget-view+json": {
       "model_id": "a86d4b4df9084a21a4926f1a1deb62de",
       "version_major": 2,
       "version_minor": 0
      },
      "text/plain": [
       "Download:   0%|          | 0.00/14.0G [00:00<?, ?/s]"
      ]
     },
     "metadata": {},
     "output_type": "display_data"
    }
   ],
   "source": [
    "MB = 1 << 20\n",
    "with rq.get(\"https://gdo168.llnl.gov/data/ACME-2023/stdview-20231105-20231120.tar\", stream=True) as r:\n",
    "    assert r.ok and re.match(r\"^[0-9]+$\", r.headers.get(\"Content-Length\", \"n/a\"))\n",
    "    size_acme3 = int(r.headers[\"Content-Length\"])\n",
    "    if os.path.isfile(\"acme3.tar\") and os.path.getsize(\"acme3.tar\") == size_acme3:\n",
    "        print(\"ACME3 dataset in place\")\n",
    "    else:\n",
    "        with open(\"acme3.tar\", \"wb\") as file, tqdm(desc=\"Download\", total=size_acme3, unit_scale=True, unit=\"\") as progress:\n",
    "            for chunk in r.iter_content(chunk_size=4 * MB):\n",
    "                file.write(chunk)\n",
    "                progress.update(len(chunk))"
   ]
  },
  {
   "cell_type": "markdown",
   "id": "d807d2b2-f3e3-4d4c-9008-2c2e1d39d7c3",
   "metadata": {},
   "source": [
    "Host-based telemetry is actually a collection of many telemetry streams,\n",
    "detailing respectively how the processes running on the hosts of the network interact with the various IT resources available.\n",
    "We will focus on two such streams:\n",
    "\n",
    "1. The main stream of process instances, of which we mean to analyze _command lines_.\n",
    "2. The stream of _code image load events_, by which processes establish their capabilities by sourcing various subsets of system APIs."
   ]
  },
  {
   "cell_type": "markdown",
   "id": "e00f0b88-c3cf-4d45-a70f-2a0174602ec9",
   "metadata": {},
   "source": [
    "An important aspect of host-based data analysis is that the host-based agent is also a user-mode process.\n",
    "As such, it interacts with all the processes of a system to achieve its purpose,\n",
    "and will store the telemetry it generates either in local files or to a central database accessed over the network.\n",
    "It thus makes sense to try and exclude the telemetry events generated by the agent itself.\n",
    "For the two telemetry streams we are interested in,\n",
    "this entails tracking the _child processes_ of the agent processes,\n",
    "so as to discard their related telemetry events."
   ]
  },
  {
   "cell_type": "code",
   "execution_count": 3,
   "id": "70c64203-483a-493f-98bd-6d657f09bfb4",
   "metadata": {},
   "outputs": [
    {
     "data": {
      "application/vnd.jupyter.widget-view+json": {
       "model_id": "d97c009148984742a38087f6d30c9cfa",
       "version_major": 2,
       "version_minor": 0
      },
      "text/plain": [
       "  0%|          | 0/3 [00:00<?, ?it/s]"
      ]
     },
     "metadata": {},
     "output_type": "display_data"
    }
   ],
   "source": [
    "db = duckdb.connect(\":memory:\")\n",
    "with tarfile.open(\"acme3.tar\", mode=\"r\") as archive:\n",
    "    for table in tqdm([\"process\", \"process_image_load\", \"process_path\"]):\n",
    "        path = f\"stdview-20231105-20231120/{table}.parquet\"\n",
    "        archive.extract(path, set_attrs=False, filter=lambda x, _: x)\n",
    "        db.execute(f\"create or replace view {table} as select * from read_parquet('{path}')\")"
   ]
  },
  {
   "cell_type": "markdown",
   "id": "6311b716-1a56-4dbf-9852-2b6bef097874",
   "metadata": {},
   "source": [
    "We use [DuckDB](https://duckdb.org/) for easy peasy data engineering."
   ]
  },
  {
   "cell_type": "code",
   "execution_count": 4,
   "id": "e0005fec-2b8b-48cb-a9eb-02d74ff9a9d5",
   "metadata": {},
   "outputs": [],
   "source": [
    "%load_ext magic_duckdb\n",
    "%dql -co db"
   ]
  },
  {
   "cell_type": "raw",
   "id": "f51c3bde-b0e9-4515-9f92-12228d7bbd98",
   "metadata": {},
   "source": [
    "%%dql\n",
    "describe process"
   ]
  },
  {
   "cell_type": "raw",
   "id": "7456f272-388d-44b1-a7dc-056b78c5aad9",
   "metadata": {},
   "source": [
    "%%dql\n",
    "describe process_path"
   ]
  },
  {
   "cell_type": "markdown",
   "id": "01e9464a-f442-4959-b71e-f5fd4215e7bf",
   "metadata": {},
   "source": [
    "I am not going to describe the full schema and semantics of the necessary data tables,\n",
    "but here are a few notes in service of our purposes:\n",
    "\n",
    "1. The process instances are summarized in a table named `process`.\n",
    "    1. The instances are respectively uniquely identified by the `pid_hash` field.\n",
    "    2. The original process command lines are not stored: only the command line tails are, under the `args` field. We can reconstitute a normalized approximation by concatenating the `process_path` and `args` fields, separated with a space.\n",
    "1. The `process_path` table enumerates the all the paths of the process trees of each host respectively, starting from the node corresponding to each process instances over and up to the root of its tree.\n",
    "    1. We want to discard events related to the activity of two telemetry-generating agents: Wintap and Amazon's own **SSM** agent.\n",
    "    2. We can look up any Wintap-related process in string representations of the process paths (as it would carry the `wintap` substring). Same for SSM, identified with the `amazon-ssm` substring.\n",
    "    3. The paths marking unwanted telemetry tie back to `pid_hash` identifiers.\n",
    "1. The data capture laboratory was stood up a few weeks before the data collection period started, so as to be set up for the experiment. We discard all the information collected outside of the nominal data capture period.\n",
    "1. Code image loading events are collected in table `process_image_load`. We restrict to the events not generated by the telemetry agents' own activity."
   ]
  },
  {
   "cell_type": "code",
   "execution_count": 5,
   "id": "09ac9f06-8dca-4655-9092-f6740617649d",
   "metadata": {},
   "outputs": [
    {
     "data": {
      "text/html": [
       "<div>\n",
       "<style scoped>\n",
       "    .dataframe tbody tr th:only-of-type {\n",
       "        vertical-align: middle;\n",
       "    }\n",
       "\n",
       "    .dataframe tbody tr th {\n",
       "        vertical-align: top;\n",
       "    }\n",
       "\n",
       "    .dataframe thead th {\n",
       "        text-align: right;\n",
       "    }\n",
       "</style>\n",
       "<table border=\"1\" class=\"dataframe\">\n",
       "  <thead>\n",
       "    <tr style=\"text-align: right;\">\n",
       "      <th></th>\n",
       "      <th>pid_hash</th>\n",
       "      <th>parent_pid_hash</th>\n",
       "      <th>timestamp</th>\n",
       "      <th>hostname</th>\n",
       "      <th>name</th>\n",
       "      <th>cmdline</th>\n",
       "      <th>ptree</th>\n",
       "    </tr>\n",
       "  </thead>\n",
       "  <tbody>\n",
       "    <tr>\n",
       "      <th>0</th>\n",
       "      <td>D344D3D1AB4DB23FA8E3A27747512683</td>\n",
       "      <td>4077531090546BF97B77D5D1B84886C7</td>\n",
       "      <td>2023-11-05 00:00:01.665756+00:00</td>\n",
       "      <td>ACME-DC1</td>\n",
       "      <td>wsqmcons.exe</td>\n",
       "      <td>c:\\windows\\system32\\wsqmcons.exe</td>\n",
       "      <td>=wsqmcons.exe-&gt;svchost.exe-&gt;services.exe-&gt;wini...</td>\n",
       "    </tr>\n",
       "    <tr>\n",
       "      <th>1</th>\n",
       "      <td>66BB0D55AF9EFDAA3201581D11EE7E0F</td>\n",
       "      <td>DCAE2AF494F63EC152DDFB7703B61486</td>\n",
       "      <td>2023-11-05 00:00:27.954172+00:00</td>\n",
       "      <td>ACME-WS-PRV</td>\n",
       "      <td>mousocoreworker.exe</td>\n",
       "      <td>c:\\windows\\system32\\mousocoreworker.exe -embed...</td>\n",
       "      <td>=mousocoreworker.exe-&gt;svchost.exe-&gt;services.ex...</td>\n",
       "    </tr>\n",
       "    <tr>\n",
       "      <th>2</th>\n",
       "      <td>9D791FE57826CC963DFC2B0206EEF028</td>\n",
       "      <td>BA7EC59E059F8E7B9F75D3BD0D3E85FE</td>\n",
       "      <td>2023-11-05 00:00:59.436929+00:00</td>\n",
       "      <td>ACME-HH-YIM</td>\n",
       "      <td>taskhostw.exe</td>\n",
       "      <td>c:\\windows\\system32\\taskhostw.exe system</td>\n",
       "      <td>=taskhostw.exe-&gt;svchost.exe-&gt;services.exe-&gt;win...</td>\n",
       "    </tr>\n",
       "    <tr>\n",
       "      <th>3</th>\n",
       "      <td>229A30ADEECFAA4CCFE262353A7FFDEA</td>\n",
       "      <td>6DB651F1EAD84F88801332945F69A5F2</td>\n",
       "      <td>2023-11-05 00:01:02.292882+00:00</td>\n",
       "      <td>ACME-HH-TTW</td>\n",
       "      <td>taskhostw.exe</td>\n",
       "      <td>c:\\windows\\system32\\taskhostw.exe system</td>\n",
       "      <td>=taskhostw.exe-&gt;svchost.exe-&gt;services.exe-&gt;win...</td>\n",
       "    </tr>\n",
       "    <tr>\n",
       "      <th>4</th>\n",
       "      <td>9823D281D913FA438D444761F0939A4E</td>\n",
       "      <td>7E181521E18EE9BF804A63C1ED93F465</td>\n",
       "      <td>2023-11-05 00:01:07.597761+00:00</td>\n",
       "      <td>ACME-HH-OLY</td>\n",
       "      <td>taskhostw.exe</td>\n",
       "      <td>c:\\windows\\system32\\taskhostw.exe system</td>\n",
       "      <td>=taskhostw.exe-&gt;svchost.exe-&gt;services.exe-&gt;win...</td>\n",
       "    </tr>\n",
       "    <tr>\n",
       "      <th>...</th>\n",
       "      <td>...</td>\n",
       "      <td>...</td>\n",
       "      <td>...</td>\n",
       "      <td>...</td>\n",
       "      <td>...</td>\n",
       "      <td>...</td>\n",
       "      <td>...</td>\n",
       "    </tr>\n",
       "    <tr>\n",
       "      <th>137842</th>\n",
       "      <td>11D2905584ADEBDB004263B08D3706A1</td>\n",
       "      <td>5B1453B37F079EC6AA910E820C5B6BF1</td>\n",
       "      <td>2023-11-20 23:54:14.616846+00:00</td>\n",
       "      <td>ACME-HH-IKA</td>\n",
       "      <td>usoclient.exe</td>\n",
       "      <td>c:\\windows\\system32\\usoclient.exe startscan</td>\n",
       "      <td>=usoclient.exe-&gt;svchost.exe-&gt;services.exe-&gt;win...</td>\n",
       "    </tr>\n",
       "    <tr>\n",
       "      <th>137843</th>\n",
       "      <td>D8DC51881EDB5C6F7D6239E3DE1A5D93</td>\n",
       "      <td>E283B625D417A1C9584B2D6C9D0C364F</td>\n",
       "      <td>2023-11-20 23:54:14.638486+00:00</td>\n",
       "      <td>ACME-HH-IKA</td>\n",
       "      <td>mousocoreworker.exe</td>\n",
       "      <td>c:\\windows\\system32\\mousocoreworker.exe -embed...</td>\n",
       "      <td>=mousocoreworker.exe-&gt;svchost.exe-&gt;services.ex...</td>\n",
       "    </tr>\n",
       "    <tr>\n",
       "      <th>137844</th>\n",
       "      <td>521490D4B45E5BDC4BD2CA7081BC06A7</td>\n",
       "      <td>6A37E544F4D9E91016071993B3DC4103</td>\n",
       "      <td>2023-11-20 23:55:23.333011+00:00</td>\n",
       "      <td>ACME-HH-AZH</td>\n",
       "      <td>usoclient.exe</td>\n",
       "      <td>c:\\windows\\system32\\usoclient.exe startscan</td>\n",
       "      <td>=usoclient.exe-&gt;svchost.exe-&gt;services.exe-&gt;win...</td>\n",
       "    </tr>\n",
       "    <tr>\n",
       "      <th>137845</th>\n",
       "      <td>D2211D916C3414FDFBD2663BB9051C84</td>\n",
       "      <td>2C2DB3363D7539099C7869C6BFEEED6B</td>\n",
       "      <td>2023-11-20 23:55:23.349693+00:00</td>\n",
       "      <td>ACME-HH-AZH</td>\n",
       "      <td>mousocoreworker.exe</td>\n",
       "      <td>c:\\windows\\system32\\mousocoreworker.exe -embed...</td>\n",
       "      <td>=mousocoreworker.exe-&gt;svchost.exe-&gt;services.ex...</td>\n",
       "    </tr>\n",
       "    <tr>\n",
       "      <th>137846</th>\n",
       "      <td>73917C5EF988165232D5F62B384F829E</td>\n",
       "      <td>5B1453B37F079EC6AA910E820C5B6BF1</td>\n",
       "      <td>2023-11-20 23:57:56.983102+00:00</td>\n",
       "      <td>ACME-HH-IKA</td>\n",
       "      <td>rundll32.exe</td>\n",
       "      <td>c:\\windows\\system32\\rundll32.exe c:\\windows\\sy...</td>\n",
       "      <td>=rundll32.exe-&gt;svchost.exe-&gt;services.exe-&gt;wini...</td>\n",
       "    </tr>\n",
       "  </tbody>\n",
       "</table>\n",
       "<p>137847 rows × 7 columns</p>\n",
       "</div>"
      ],
      "text/plain": [
       "                                pid_hash                   parent_pid_hash  \\\n",
       "0       D344D3D1AB4DB23FA8E3A27747512683  4077531090546BF97B77D5D1B84886C7   \n",
       "1       66BB0D55AF9EFDAA3201581D11EE7E0F  DCAE2AF494F63EC152DDFB7703B61486   \n",
       "2       9D791FE57826CC963DFC2B0206EEF028  BA7EC59E059F8E7B9F75D3BD0D3E85FE   \n",
       "3       229A30ADEECFAA4CCFE262353A7FFDEA  6DB651F1EAD84F88801332945F69A5F2   \n",
       "4       9823D281D913FA438D444761F0939A4E  7E181521E18EE9BF804A63C1ED93F465   \n",
       "...                                  ...                               ...   \n",
       "137842  11D2905584ADEBDB004263B08D3706A1  5B1453B37F079EC6AA910E820C5B6BF1   \n",
       "137843  D8DC51881EDB5C6F7D6239E3DE1A5D93  E283B625D417A1C9584B2D6C9D0C364F   \n",
       "137844  521490D4B45E5BDC4BD2CA7081BC06A7  6A37E544F4D9E91016071993B3DC4103   \n",
       "137845  D2211D916C3414FDFBD2663BB9051C84  2C2DB3363D7539099C7869C6BFEEED6B   \n",
       "137846  73917C5EF988165232D5F62B384F829E  5B1453B37F079EC6AA910E820C5B6BF1   \n",
       "\n",
       "                              timestamp     hostname                 name  \\\n",
       "0      2023-11-05 00:00:01.665756+00:00     ACME-DC1         wsqmcons.exe   \n",
       "1      2023-11-05 00:00:27.954172+00:00  ACME-WS-PRV  mousocoreworker.exe   \n",
       "2      2023-11-05 00:00:59.436929+00:00  ACME-HH-YIM        taskhostw.exe   \n",
       "3      2023-11-05 00:01:02.292882+00:00  ACME-HH-TTW        taskhostw.exe   \n",
       "4      2023-11-05 00:01:07.597761+00:00  ACME-HH-OLY        taskhostw.exe   \n",
       "...                                 ...          ...                  ...   \n",
       "137842 2023-11-20 23:54:14.616846+00:00  ACME-HH-IKA        usoclient.exe   \n",
       "137843 2023-11-20 23:54:14.638486+00:00  ACME-HH-IKA  mousocoreworker.exe   \n",
       "137844 2023-11-20 23:55:23.333011+00:00  ACME-HH-AZH        usoclient.exe   \n",
       "137845 2023-11-20 23:55:23.349693+00:00  ACME-HH-AZH  mousocoreworker.exe   \n",
       "137846 2023-11-20 23:57:56.983102+00:00  ACME-HH-IKA         rundll32.exe   \n",
       "\n",
       "                                                  cmdline  \\\n",
       "0                        c:\\windows\\system32\\wsqmcons.exe   \n",
       "1       c:\\windows\\system32\\mousocoreworker.exe -embed...   \n",
       "2                c:\\windows\\system32\\taskhostw.exe system   \n",
       "3                c:\\windows\\system32\\taskhostw.exe system   \n",
       "4                c:\\windows\\system32\\taskhostw.exe system   \n",
       "...                                                   ...   \n",
       "137842        c:\\windows\\system32\\usoclient.exe startscan   \n",
       "137843  c:\\windows\\system32\\mousocoreworker.exe -embed...   \n",
       "137844        c:\\windows\\system32\\usoclient.exe startscan   \n",
       "137845  c:\\windows\\system32\\mousocoreworker.exe -embed...   \n",
       "137846  c:\\windows\\system32\\rundll32.exe c:\\windows\\sy...   \n",
       "\n",
       "                                                    ptree  \n",
       "0       =wsqmcons.exe->svchost.exe->services.exe->wini...  \n",
       "1       =mousocoreworker.exe->svchost.exe->services.ex...  \n",
       "2       =taskhostw.exe->svchost.exe->services.exe->win...  \n",
       "3       =taskhostw.exe->svchost.exe->services.exe->win...  \n",
       "4       =taskhostw.exe->svchost.exe->services.exe->win...  \n",
       "...                                                   ...  \n",
       "137842  =usoclient.exe->svchost.exe->services.exe->win...  \n",
       "137843  =mousocoreworker.exe->svchost.exe->services.ex...  \n",
       "137844  =usoclient.exe->svchost.exe->services.exe->win...  \n",
       "137845  =mousocoreworker.exe->svchost.exe->services.ex...  \n",
       "137846  =rundll32.exe->svchost.exe->services.exe->wini...  \n",
       "\n",
       "[137847 rows x 7 columns]"
      ]
     },
     "execution_count": 5,
     "metadata": {},
     "output_type": "execute_result"
    }
   ],
   "source": [
    "%%dql -o process_filtered\n",
    "select\n",
    "    p.pid_hash,\n",
    "    p.parent_pid_hash,\n",
    "    p.process_started as timestamp,\n",
    "    p.hostname,\n",
    "    p.process_name as name,\n",
    "    trim(p.process_path || ' ' || coalesce(p.args, '')) as cmdline,\n",
    "    pp.ptree\n",
    "from process as p\n",
    "inner join process_path as pp using (pid_hash)\n",
    "where     pp.ptree not like '%wintap%'\n",
    "      and pp.ptree not like '%amazon-ssm%'\n",
    "      and p.process_started >= '2023-11-05'::timestamp\n",
    "      and p.process_started = p.first_seen\n",
    "order by p.process_started, p.hostname"
   ]
  },
  {
   "cell_type": "code",
   "execution_count": 6,
   "id": "a55ba5b2-0fd4-47a4-98f9-f7c866bf215e",
   "metadata": {},
   "outputs": [
    {
     "data": {
      "text/html": [
       "<div>\n",
       "<style scoped>\n",
       "    .dataframe tbody tr th:only-of-type {\n",
       "        vertical-align: middle;\n",
       "    }\n",
       "\n",
       "    .dataframe tbody tr th {\n",
       "        vertical-align: top;\n",
       "    }\n",
       "\n",
       "    .dataframe thead th {\n",
       "        text-align: right;\n",
       "    }\n",
       "</style>\n",
       "<table border=\"1\" class=\"dataframe\">\n",
       "  <thead>\n",
       "    <tr style=\"text-align: right;\">\n",
       "      <th></th>\n",
       "      <th>pid_hash</th>\n",
       "      <th>filename</th>\n",
       "      <th>timestamp</th>\n",
       "    </tr>\n",
       "  </thead>\n",
       "  <tbody>\n",
       "    <tr>\n",
       "      <th>0</th>\n",
       "      <td>AD0DD8FE522C8245DB1FE6843542CE5D</td>\n",
       "      <td>c:\\windows\\system32\\wermgr.exe</td>\n",
       "      <td>2023-11-05 00:02:30.978349+00:00</td>\n",
       "    </tr>\n",
       "    <tr>\n",
       "      <th>1</th>\n",
       "      <td>AD0DD8FE522C8245DB1FE6843542CE5D</td>\n",
       "      <td>c:\\windows\\system32\\ntdll.dll</td>\n",
       "      <td>2023-11-05 00:02:30.978364+00:00</td>\n",
       "    </tr>\n",
       "    <tr>\n",
       "      <th>2</th>\n",
       "      <td>AD0DD8FE522C8245DB1FE6843542CE5D</td>\n",
       "      <td>c:\\windows\\system32\\kernel32.dll</td>\n",
       "      <td>2023-11-05 00:02:30.979265+00:00</td>\n",
       "    </tr>\n",
       "    <tr>\n",
       "      <th>3</th>\n",
       "      <td>AD0DD8FE522C8245DB1FE6843542CE5D</td>\n",
       "      <td>c:\\windows\\system32\\kernelbase.dll</td>\n",
       "      <td>2023-11-05 00:02:30.979419+00:00</td>\n",
       "    </tr>\n",
       "    <tr>\n",
       "      <th>4</th>\n",
       "      <td>AD0DD8FE522C8245DB1FE6843542CE5D</td>\n",
       "      <td>c:\\windows\\system32\\msvcrt.dll</td>\n",
       "      <td>2023-11-05 00:02:30.980991+00:00</td>\n",
       "    </tr>\n",
       "    <tr>\n",
       "      <th>...</th>\n",
       "      <td>...</td>\n",
       "      <td>...</td>\n",
       "      <td>...</td>\n",
       "    </tr>\n",
       "    <tr>\n",
       "      <th>1621846</th>\n",
       "      <td>D2211D916C3414FDFBD2663BB9051C84</td>\n",
       "      <td>c:\\windows\\system32\\npmproxy.dll</td>\n",
       "      <td>2023-11-20 23:55:23.410633+00:00</td>\n",
       "    </tr>\n",
       "    <tr>\n",
       "      <th>1621847</th>\n",
       "      <td>D2211D916C3414FDFBD2663BB9051C84</td>\n",
       "      <td>c:\\windows\\system32\\wintypes.dll</td>\n",
       "      <td>2023-11-20 23:55:23.413362+00:00</td>\n",
       "    </tr>\n",
       "    <tr>\n",
       "      <th>1621848</th>\n",
       "      <td>D2211D916C3414FDFBD2663BB9051C84</td>\n",
       "      <td>c:\\windows\\system32\\taskschd.dll</td>\n",
       "      <td>2023-11-20 23:55:23.418445+00:00</td>\n",
       "    </tr>\n",
       "    <tr>\n",
       "      <th>1621849</th>\n",
       "      <td>D2211D916C3414FDFBD2663BB9051C84</td>\n",
       "      <td>c:\\windows\\system32\\sspicli.dll</td>\n",
       "      <td>2023-11-20 23:55:23.418901+00:00</td>\n",
       "    </tr>\n",
       "    <tr>\n",
       "      <th>1621850</th>\n",
       "      <td>D2211D916C3414FDFBD2663BB9051C84</td>\n",
       "      <td>c:\\windows\\system32\\xmllite.dll</td>\n",
       "      <td>2023-11-20 23:55:23.421222+00:00</td>\n",
       "    </tr>\n",
       "  </tbody>\n",
       "</table>\n",
       "<p>1621851 rows × 3 columns</p>\n",
       "</div>"
      ],
      "text/plain": [
       "                                 pid_hash                            filename  \\\n",
       "0        AD0DD8FE522C8245DB1FE6843542CE5D      c:\\windows\\system32\\wermgr.exe   \n",
       "1        AD0DD8FE522C8245DB1FE6843542CE5D       c:\\windows\\system32\\ntdll.dll   \n",
       "2        AD0DD8FE522C8245DB1FE6843542CE5D    c:\\windows\\system32\\kernel32.dll   \n",
       "3        AD0DD8FE522C8245DB1FE6843542CE5D  c:\\windows\\system32\\kernelbase.dll   \n",
       "4        AD0DD8FE522C8245DB1FE6843542CE5D      c:\\windows\\system32\\msvcrt.dll   \n",
       "...                                   ...                                 ...   \n",
       "1621846  D2211D916C3414FDFBD2663BB9051C84    c:\\windows\\system32\\npmproxy.dll   \n",
       "1621847  D2211D916C3414FDFBD2663BB9051C84    c:\\windows\\system32\\wintypes.dll   \n",
       "1621848  D2211D916C3414FDFBD2663BB9051C84    c:\\windows\\system32\\taskschd.dll   \n",
       "1621849  D2211D916C3414FDFBD2663BB9051C84     c:\\windows\\system32\\sspicli.dll   \n",
       "1621850  D2211D916C3414FDFBD2663BB9051C84     c:\\windows\\system32\\xmllite.dll   \n",
       "\n",
       "                               timestamp  \n",
       "0       2023-11-05 00:02:30.978349+00:00  \n",
       "1       2023-11-05 00:02:30.978364+00:00  \n",
       "2       2023-11-05 00:02:30.979265+00:00  \n",
       "3       2023-11-05 00:02:30.979419+00:00  \n",
       "4       2023-11-05 00:02:30.980991+00:00  \n",
       "...                                  ...  \n",
       "1621846 2023-11-20 23:55:23.410633+00:00  \n",
       "1621847 2023-11-20 23:55:23.413362+00:00  \n",
       "1621848 2023-11-20 23:55:23.418445+00:00  \n",
       "1621849 2023-11-20 23:55:23.418901+00:00  \n",
       "1621850 2023-11-20 23:55:23.421222+00:00  \n",
       "\n",
       "[1621851 rows x 3 columns]"
      ]
     },
     "execution_count": 6,
     "metadata": {},
     "output_type": "execute_result"
    }
   ],
   "source": [
    "%%dql -o image_loads\n",
    "select\n",
    "    pid_hash,\n",
    "    filename,\n",
    "    first_seen as timestamp\n",
    "from process_image_load\n",
    "inner join process_filtered using (pid_hash)\n",
    "order by timestamp, pid_hash"
   ]
  },
  {
   "cell_type": "markdown",
   "id": "13388221-b6f5-4ef3-805e-ba8a82c9c456",
   "metadata": {},
   "source": [
    "We save the tables we just gathered as local Parquet files."
   ]
  },
  {
   "cell_type": "code",
   "execution_count": 8,
   "id": "cb5cce7d-400c-4a9c-9b37-02c476939214",
   "metadata": {},
   "outputs": [],
   "source": [
    "process_filtered.to_parquet('process_filtered.parquet', compression=\"zstd\")\n",
    "image_loads.to_parquet('image_loads.parquet', compression=\"zstd\")"
   ]
  },
  {
   "cell_type": "markdown",
   "id": "33a1e354-5f20-4905-bb09-a0a19ca1efad",
   "metadata": {},
   "source": [
    "Q: how much storage space for the data we require?"
   ]
  },
  {
   "cell_type": "code",
   "execution_count": 9,
   "id": "ec896560-ce9c-4c6c-b942-ba1650a9ec1a",
   "metadata": {},
   "outputs": [
    {
     "data": {
      "text/html": [
       "<div>\n",
       "<style scoped>\n",
       "    .dataframe tbody tr th:only-of-type {\n",
       "        vertical-align: middle;\n",
       "    }\n",
       "\n",
       "    .dataframe tbody tr th {\n",
       "        vertical-align: top;\n",
       "    }\n",
       "\n",
       "    .dataframe thead th {\n",
       "        text-align: right;\n",
       "    }\n",
       "</style>\n",
       "<table border=\"1\" class=\"dataframe\">\n",
       "  <thead>\n",
       "    <tr style=\"text-align: right;\">\n",
       "      <th></th>\n",
       "      <th>name</th>\n",
       "      <th>size</th>\n",
       "    </tr>\n",
       "  </thead>\n",
       "  <tbody>\n",
       "    <tr>\n",
       "      <th>0</th>\n",
       "      <td>process_filtered.parquet</td>\n",
       "      <td>5234104</td>\n",
       "    </tr>\n",
       "    <tr>\n",
       "      <th>1</th>\n",
       "      <td>image_loads.parquet</td>\n",
       "      <td>6223961</td>\n",
       "    </tr>\n",
       "  </tbody>\n",
       "</table>\n",
       "</div>"
      ],
      "text/plain": [
       "                       name     size\n",
       "0  process_filtered.parquet  5234104\n",
       "1       image_loads.parquet  6223961"
      ]
     },
     "execution_count": 9,
     "metadata": {},
     "output_type": "execute_result"
    }
   ],
   "source": [
    "pd.DataFrame(\n",
    "    [\n",
    "        (name, os.path.getsize(name))\n",
    "        for name in os.listdir(\".\")\n",
    "        if name.endswith(\".parquet\")\n",
    "    ],\n",
    "    columns=[\"name\", \"size\"]\n",
    ")"
   ]
  },
  {
   "cell_type": "markdown",
   "id": "f0f8f37f-702f-4c2a-b6d1-eb185b49105d",
   "metadata": {},
   "source": [
    "A: not much at all."
   ]
  },
  {
   "cell_type": "markdown",
   "id": "ee396481-edfc-485c-b1a0-f3527adb0a4d",
   "metadata": {},
   "source": [
    "Unless you care about exploring the dataset at larger length,\n",
    "you can now remove the Tar file we gathered and the Parquet files we extracted from it.\n",
    "To do so, you may change the next cell to a code cell and run it."
   ]
  },
  {
   "cell_type": "raw",
   "id": "5ec8d527-3fb8-4ff2-92d8-bd007790d99e",
   "metadata": {},
   "source": [
    "import shutil\n",
    "shutil.rmtree(\"stdview-20231105-20231120\")\n",
    "os.remove(\"acme3.tar\")"
   ]
  }
 ],
 "metadata": {
  "kernelspec": {
   "display_name": "Python 3 (ipykernel) (main-4)",
   "language": "python",
   "name": "conda-env-main-4-py"
  },
  "language_info": {
   "codemirror_mode": {
    "name": "ipython",
    "version": 3
   },
   "file_extension": ".py",
   "mimetype": "text/x-python",
   "name": "python",
   "nbconvert_exporter": "python",
   "pygments_lexer": "ipython3",
   "version": "3.12.4"
  }
 },
 "nbformat": 4,
 "nbformat_minor": 5
}
