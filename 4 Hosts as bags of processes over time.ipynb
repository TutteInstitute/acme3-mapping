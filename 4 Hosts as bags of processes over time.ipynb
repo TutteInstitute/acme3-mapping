{
 "cells": [
  {
   "cell_type": "code",
   "execution_count": null,
   "id": "09cb17d1-23ae-46a5-a869-5bdde42465da",
   "metadata": {},
   "outputs": [],
   "source": []
  }
 ],
 "metadata": {
  "kernelspec": {
   "display_name": "Python 3 (ipykernel) (main-4)",
   "language": "python",
   "name": "conda-env-main-4-py"
  },
  "language_info": {
   "codemirror_mode": {
    "name": "ipython",
    "version": 3
   },
   "file_extension": ".py",
   "mimetype": "text/x-python",
   "name": "python",
   "nbconvert_exporter": "python",
   "pygments_lexer": "ipython3",
   "version": "3.11.9"
  }
 },
 "nbformat": 4,
 "nbformat_minor": 5
}
