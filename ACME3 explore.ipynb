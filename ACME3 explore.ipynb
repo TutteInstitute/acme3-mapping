{
 "cells": [
  {
   "cell_type": "code",
   "execution_count": null,
   "id": "3cb97500-6dcc-4065-b32f-ca3f012f16ce",
   "metadata": {
    "tags": []
   },
   "outputs": [],
   "source": [
    "import duckdb\n",
    "import numpy as np\n",
    "import pandas as pd\n",
    "from tqdm.auto import tqdm"
   ]
  },
  {
   "cell_type": "code",
   "execution_count": null,
   "id": "1e72bb98-d157-4d78-84e7-077a6d512f00",
   "metadata": {
    "tags": []
   },
   "outputs": [],
   "source": [
    "db = duckdb.connect(\":memory:\")\n",
    "db"
   ]
  },
  {
   "cell_type": "code",
   "execution_count": null,
   "id": "38fa309f-4795-440e-855c-d617c40427c7",
   "metadata": {
    "tags": []
   },
   "outputs": [],
   "source": [
    "db.execute(\"create or replace view process as select * from read_parquet('/data/acme3/stdview-20231105-20231120/process.parquet')\")"
   ]
  },
  {
   "cell_type": "code",
   "execution_count": null,
   "id": "2d4d5ada-9f85-48fd-a973-cb5148c773f4",
   "metadata": {
    "tags": []
   },
   "outputs": [],
   "source": [
    "db.execute(\"create or replace view process_path as select * from read_parquet('/data/acme3/stdview-20231105-20231120/process_path.parquet')\")"
   ]
  },
  {
   "cell_type": "code",
   "execution_count": null,
   "id": "785e3c19-41b0-4b51-921a-63f7d2387011",
   "metadata": {
    "tags": []
   },
   "outputs": [],
   "source": [
    "db.execute(\"describe process\").df()"
   ]
  },
  {
   "cell_type": "code",
   "execution_count": null,
   "id": "5b336a41-b34e-46ec-8021-363f2107ec23",
   "metadata": {
    "tags": []
   },
   "outputs": [],
   "source": [
    "%%time\n",
    "df = db.execute(\"select hostname, pid_hash, parent_pid_hash, process_name, args from process\").df()\n",
    "df"
   ]
  },
  {
   "cell_type": "raw",
   "id": "ab141492-188c-47aa-84a4-a12dc9833a07",
   "metadata": {
    "tags": []
   },
   "source": [
    "conhosts = df.loc[df[\"process_name\"] == \"conhost.exe\"]\n",
    "conhosts"
   ]
  },
  {
   "cell_type": "raw",
   "id": "2ba2b29c-46fc-4722-a10c-deb77d4755fc",
   "metadata": {
    "tags": []
   },
   "source": [
    "ph_conhost = set(conhosts[\"pid_hash\"])\n",
    "len(ph_conhost)"
   ]
  },
  {
   "cell_type": "raw",
   "id": "a1c80b19-bcb4-4308-82bc-56c609a50c86",
   "metadata": {
    "tags": []
   },
   "source": [
    "pph_conhost = set(conhosts[\"parent_pid_hash\"])\n",
    "len(pph_conhost)"
   ]
  },
  {
   "cell_type": "raw",
   "id": "0cb39c18-3585-4fbd-8f26-7af369e33572",
   "metadata": {
    "tags": []
   },
   "source": [
    "children = df.loc[df[\"parent_pid_hash\"].isin(ph_conhost)]\n",
    "children"
   ]
  },
  {
   "cell_type": "raw",
   "id": "f0cba271-30e7-4803-a65d-5ab144ffe94a",
   "metadata": {
    "tags": []
   },
   "source": [
    "parents = df.loc[df[\"pid_hash\"].isin(pph_conhost)]\n",
    "parents"
   ]
  },
  {
   "cell_type": "raw",
   "id": "d5e67097-267a-4914-8117-65a39250d5cf",
   "metadata": {
    "tags": []
   },
   "source": [
    "parents[\"process_name\"].value_counts()"
   ]
  },
  {
   "cell_type": "raw",
   "id": "f1484706-3a00-4414-b4b8-bd2264846ef1",
   "metadata": {
    "tags": []
   },
   "source": [
    "df[\"process_name\"].str.contains(\"wintap\").fillna(False)"
   ]
  },
  {
   "cell_type": "code",
   "execution_count": null,
   "id": "8dea6e07-c2c6-4c19-96ec-1230eef4eced",
   "metadata": {
    "tags": []
   },
   "outputs": [],
   "source": [
    "%%time\n",
    "wintaps = df.loc[df[\"process_name\"] == \"wintap.exe\"]\n",
    "wintaps"
   ]
  },
  {
   "cell_type": "code",
   "execution_count": null,
   "id": "44720cd1-af96-4da0-b57d-b7399434ee99",
   "metadata": {
    "tags": []
   },
   "outputs": [],
   "source": [
    "wintaps[\"hostname\"].value_counts()"
   ]
  },
  {
   "cell_type": "raw",
   "id": "8a0f77f5-055a-4a4e-ae93-177311b1e417",
   "metadata": {
    "tags": []
   },
   "source": [
    "tree_wintap = [wintaps]\n",
    "progress = tqdm(total=df.shape[0])\n",
    "progress.update(wintaps.shape[0])\n",
    "while tree_wintap[-1].shape[0]:\n",
    "    tree_wintap.append(\n",
    "        df\n",
    "        .merge(tree_wintap[-1][[\"pid_hash\"]], left_on=\"parent_pid_hash\", right_on=\"pid_hash\", how=\"inner\", suffixes=(\"\", \"_parent\"))\n",
    "        .drop(columns=[\"pid_hash_parent\"])\n",
    "    )\n",
    "    progress.update(tree_wintap[-1].shape[0])\n",
    "progress.close()\n",
    "wintap_all = pd.concat(tree_wintap, ignore_index=True)\n",
    "wintap_all"
   ]
  },
  {
   "cell_type": "code",
   "execution_count": null,
   "id": "1a86adee-f20d-4e70-95ae-aaf43b5e5893",
   "metadata": {
    "tags": []
   },
   "outputs": [],
   "source": [
    "children0 = pd.merge(df, wintaps[[\"pid_hash\"]], left_on=\"parent_pid_hash\", right_on=\"pid_hash\", how=\"inner\", suffixes=(\"\", \"_discard\"))\n",
    "children0"
   ]
  },
  {
   "cell_type": "code",
   "execution_count": null,
   "id": "6888928a-fbc5-4942-9121-dd10c6b8510a",
   "metadata": {
    "tags": []
   },
   "outputs": [],
   "source": [
    "children0[\"process_name\"].value_counts()"
   ]
  },
  {
   "cell_type": "code",
   "execution_count": null,
   "id": "4e702d9a-c5f4-40da-866a-05a8717772bb",
   "metadata": {
    "tags": []
   },
   "outputs": [],
   "source": [
    "children1 = pd.merge(df, children0[[\"pid_hash\"]], left_on=\"parent_pid_hash\", right_on=\"pid_hash\", how=\"inner\", suffixes=(\"\", \"_discard\"))\n",
    "children1"
   ]
  },
  {
   "cell_type": "code",
   "execution_count": null,
   "id": "e6e1c780-050e-49a0-b44e-387dae5ac536",
   "metadata": {
    "tags": []
   },
   "outputs": [],
   "source": [
    "children1.loc[children1[\"process_name\"] == \"winlogon.exe\"]"
   ]
  },
  {
   "cell_type": "code",
   "execution_count": null,
   "id": "3ead4f1a-9c30-4249-9bfc-d0c4d1ce8535",
   "metadata": {
    "tags": []
   },
   "outputs": [],
   "source": [
    "df.loc[df[\"pid_hash\"] == \"E68DD57B8393A2E74C988AA32614C16C\"]"
   ]
  },
  {
   "cell_type": "code",
   "execution_count": null,
   "id": "95174487-2cfe-4001-a771-f2948fa1bd74",
   "metadata": {
    "tags": []
   },
   "outputs": [],
   "source": [
    "db.sql(\"describe process_path\").df()"
   ]
  },
  {
   "cell_type": "code",
   "execution_count": null,
   "id": "9a6eefcb-4f4b-440c-a3a7-cd5d059d9314",
   "metadata": {
    "tags": []
   },
   "outputs": [],
   "source": [
    "num_processes = np.sum(db.sql(\"select count(*) as num from process union select count(*) from process_path\").df()[\"num\"])\n",
    "num_processes"
   ]
  },
  {
   "cell_type": "code",
   "execution_count": null,
   "id": "a6695ca7-5a37-4e01-ad12-8ad1216b0243",
   "metadata": {
    "tags": []
   },
   "outputs": [],
   "source": [
    "wintaps = db.sql(\n",
    "    \"\"\"\n",
    "    select hostname, pid_hash, parent_pid_hash, process_name, ptree\n",
    "    from process_path\n",
    "    where ptree like '%wintap%'\n",
    "    \"\"\"\n",
    ").df()\n",
    "wintaps"
   ]
  },
  {
   "cell_type": "code",
   "execution_count": null,
   "id": "d26f56ed-56d0-4ec8-b76f-986b10ab1464",
   "metadata": {
    "tags": []
   },
   "outputs": [],
   "source": [
    "wintaps.shape[0] / num_processes"
   ]
  },
  {
   "cell_type": "code",
   "execution_count": null,
   "id": "228022b1-433a-4ea3-a506-0751885e5089",
   "metadata": {
    "tags": []
   },
   "outputs": [],
   "source": [
    "amazon_ssm = db.sql(\n",
    "    \"\"\"\n",
    "    select hostname, pid_hash, parent_pid_hash, process_name, ptree\n",
    "    from process_path\n",
    "    where ptree like '%amazon-ssm%'\n",
    "    \"\"\"\n",
    ").df()\n",
    "amazon_ssm"
   ]
  },
  {
   "cell_type": "code",
   "execution_count": null,
   "id": "20197c08-6b37-4ed3-80c9-cedbba36f1d6",
   "metadata": {
    "tags": []
   },
   "outputs": [],
   "source": [
    "interesting = db.sql(\n",
    "    \"\"\"\n",
    "    select hostname, pid_hash, parent_pid_hash, process_name, ptree\n",
    "    from process_path\n",
    "    where ptree not like '%wintap%' and ptree not like '%amazon-ssm%'\n",
    "    \"\"\"\n",
    ").df()\n",
    "interesting"
   ]
  },
  {
   "cell_type": "code",
   "execution_count": null,
   "id": "d14f7396-39d8-43e5-a2dc-0813293b6e26",
   "metadata": {
    "tags": []
   },
   "outputs": [],
   "source": [
    "process_cmdlines = db.sql(\n",
    "    \"\"\"\n",
    "    select process.process_path, process.args\n",
    "    from process\n",
    "    inner join process_path using (pid_hash)\n",
    "    where process_path.ptree not like '%wintap%' and process_path.ptree not like '%amazon-ssm%'\n",
    "    \"\"\"\n",
    ").df().fillna(\"\")\n",
    "process_cmdlines"
   ]
  },
  {
   "cell_type": "code",
   "execution_count": null,
   "id": "abb7ade9-918b-44d7-8898-e5a9270932ec",
   "metadata": {
    "tags": []
   },
   "outputs": [],
   "source": [
    "cmdlines = (process_cmdlines[\"process_path\"] + \" \" + process_cmdlines[\"args\"]).str.strip()\n",
    "cmdlines.value_counts().to_frame()"
   ]
  },
  {
   "cell_type": "code",
   "execution_count": null,
   "id": "fff23929-92f2-4fc7-a0b9-2743e3af71ba",
   "metadata": {},
   "outputs": [],
   "source": []
  }
 ],
 "metadata": {
  "kernelspec": {
   "display_name": "Python 3 (ipykernel) (data-science)",
   "language": "python",
   "name": "conda-env-data-science-py"
  },
  "language_info": {
   "codemirror_mode": {
    "name": "ipython",
    "version": 3
   },
   "file_extension": ".py",
   "mimetype": "text/x-python",
   "name": "python",
   "nbconvert_exporter": "python",
   "pygments_lexer": "ipython3",
   "version": "3.11.9"
  }
 },
 "nbformat": 4,
 "nbformat_minor": 5
}
