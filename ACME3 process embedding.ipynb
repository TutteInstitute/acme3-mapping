{
 "cells": [
  {
   "cell_type": "code",
   "execution_count": null,
   "id": "0dcdae2d-ee9b-4b75-9fc2-446b1a5bafd5",
   "metadata": {},
   "outputs": [],
   "source": [
    "%%time\n",
    "import datamapplot as dmp\n",
    "import duckdb\n",
    "from fast_hdbscan import HDBSCAN\n",
    "from hashlib import md5\n",
    "import joblib as jl\n",
    "from matplotlib import colormaps\n",
    "import matplotlib.pyplot as plt\n",
    "import numpy as np\n",
    "import os\n",
    "import pandas as pd\n",
    "import scipy.sparse as sp\n",
    "import shlex\n",
    "from sklearn.decomposition import TruncatedSVD\n",
    "from tqdm.auto import tqdm\n",
    "import umap\n",
    "import vectorizers as vz\n",
    "import vectorizers.transformers as vzt\n",
    "\n",
    "import eng.bpe"
   ]
  },
  {
   "cell_type": "code",
   "execution_count": null,
   "id": "20efa376-cd2c-4a77-9c3c-f37e6fc520ad",
   "metadata": {},
   "outputs": [],
   "source": [
    "tqdm.pandas()"
   ]
  },
  {
   "cell_type": "markdown",
   "id": "bcb718f4-ef55-474c-a24a-4db92ff0063a",
   "metadata": {},
   "source": [
    "Get the data from here: https://gdo168.llnl.gov/data/ACME-2023/stdview-20231105-20231120.tar"
   ]
  },
  {
   "cell_type": "code",
   "execution_count": null,
   "id": "418f588e-141a-41dc-a6a9-9ebccf44ee43",
   "metadata": {},
   "outputs": [],
   "source": [
    "db = duckdb.connect(\":memory:\")"
   ]
  },
  {
   "cell_type": "code",
   "execution_count": null,
   "id": "5ba23dbe-6996-457e-ab23-ea8ae4343697",
   "metadata": {},
   "outputs": [],
   "source": [
    "for table in [\"process\", \"process_path\", \"process_image_load\"]:\n",
    "    db.execute(f\"create or replace view {table} as select * from parquet_scan('~/data/acme3/stdview-20231105-20231120/{table}.parquet')\")"
   ]
  },
  {
   "cell_type": "markdown",
   "id": "28e3c18d-783f-4e20-95d6-6c6456afc536",
   "metadata": {},
   "source": [
    "Drop the processes involved with the Amazon and Wintap agents."
   ]
  },
  {
   "cell_type": "code",
   "execution_count": null,
   "id": "f8e998ed-9e7f-4850-affb-72427e79388f",
   "metadata": {},
   "outputs": [],
   "source": [
    "db.execute(\n",
    "    \"\"\"\n",
    "    create or replace view process_interesting as\n",
    "    select process.*, process_path.ptree as ptree\n",
    "    from process\n",
    "    inner join process_path using (pid_hash)\n",
    "    where process_path.ptree not like '%wintap%' and process_path.ptree not like '%amazon-ssm%'\n",
    "    and process_started >= '2023-11-05'::timestamp\n",
    "    and process_started = first_seen\n",
    "    \"\"\"\n",
    ")"
   ]
  },
  {
   "cell_type": "markdown",
   "id": "3e3f75e7-a8e2-4f6b-9c54-51d1ce3a769f",
   "metadata": {},
   "source": [
    "Here are the _interesting_ processes:"
   ]
  },
  {
   "cell_type": "code",
   "execution_count": null,
   "id": "0da64238-cc73-4e8c-b61e-15465d675ce4",
   "metadata": {},
   "outputs": [],
   "source": [
    "%%time\n",
    "metadata_interesting = db.execute(\n",
    "    \"\"\"\n",
    "    select pid_hash, parent_pid_hash, process_name, process_path, args, ptree\n",
    "    from process_interesting\n",
    "    order by pid_hash\n",
    "    \"\"\"\n",
    ").df()\n",
    "metadata_interesting"
   ]
  },
  {
   "cell_type": "markdown",
   "id": "391cc7ed-ae46-41f7-b1c0-6d1b43f2f9a2",
   "metadata": {},
   "source": [
    "# Command line embedding"
   ]
  },
  {
   "cell_type": "code",
   "execution_count": null,
   "id": "b8ee28cf-f08b-4284-afb6-5e3f211e8b20",
   "metadata": {},
   "outputs": [],
   "source": [
    "cmdlines = (\n",
    "    metadata_interesting\n",
    "    .assign(space=\" \")[[\"process_path\", \"space\", \"args\"]]\n",
    "    .dropna(subset=[\"process_path\"]).fillna(\"\")\n",
    "    .sum(axis=1)\n",
    "    .str.strip()\n",
    "    .str.encode(\"ascii\", errors=\"backslashreplace\")\n",
    "    .str.decode(\"ascii\")\n",
    ")\n",
    "cmdlines"
   ]
  },
  {
   "cell_type": "code",
   "execution_count": null,
   "id": "5743e861-e0e8-499c-97f6-1486e42b5846",
   "metadata": {},
   "outputs": [],
   "source": [
    "%%time\n",
    "tokens, code_list, cmdlines_compressed = eng.bpe.train(cmdlines.unique().tolist(), vocab_size=600, max_char_code=127)\n",
    "len(code_list), np.min([len(cc) for cc in cmdlines_compressed])"
   ]
  },
  {
   "cell_type": "code",
   "execution_count": null,
   "id": "0e06f291-0e95-4e90-89d9-b1e9edf111a1",
   "metadata": {},
   "outputs": [],
   "source": [
    "%%time\n",
    "cmdlines_vec = eng.bpe.vectorize(cmdlines.tolist(), code_list, max_char_code=127)\n",
    "cmdlines_vec"
   ]
  },
  {
   "cell_type": "code",
   "execution_count": null,
   "id": "ba09ae93-054d-490e-8afd-b159ab51783e",
   "metadata": {},
   "outputs": [],
   "source": [
    "%%time\n",
    "cmdlines_iwt = vzt.InformationWeightTransformer().fit_transform(cmdlines_vec)\n",
    "cmdlines_iwt"
   ]
  },
  {
   "cell_type": "code",
   "execution_count": null,
   "id": "8e795095-a9b3-4a92-85da-d4f288ffb289",
   "metadata": {},
   "outputs": [],
   "source": [
    "%%time\n",
    "_lil = cmdlines_iwt.tolil()\n",
    "_, i_unique, i_deunique, cmdline_counts = np.unique(\n",
    "    [\n",
    "        [*md5(np.asarray(ind)).digest(), *md5(np.asarray(dat)).digest()]\n",
    "        for ind, dat in tqdm(zip(_lil.rows, _lil.data), total=cmdlines_iwt.shape[0])\n",
    "    ],\n",
    "    axis=0,\n",
    "    return_index=True,\n",
    "    return_inverse=True,\n",
    "    return_counts=True\n",
    ")\n",
    "len(i_unique)"
   ]
  },
  {
   "cell_type": "code",
   "execution_count": null,
   "id": "a298312b-5fac-4914-9483-c62dec376e8d",
   "metadata": {},
   "outputs": [],
   "source": [
    "%%time\n",
    "U_bow = umap.UMAP(\n",
    "    n_neighbors=50,\n",
    "    metric=\"hellinger\",\n",
    "    n_epochs=500,\n",
    "    verbose=True\n",
    ").fit(cmdlines_iwt[i_unique, :])#, y=metadata_interesting[\"process_name\"].iloc[i_unique].map(process_name2label))\n",
    "cmdlines_bow = U_bow.embedding_[i_deunique, :]\n",
    "cmdlines_bow.shape"
   ]
  },
  {
   "cell_type": "code",
   "execution_count": null,
   "id": "d01f592d-2889-458a-84fc-ec151f36050f",
   "metadata": {},
   "outputs": [],
   "source": [
    "datamap_bow = U_bow.embedding_\n",
    "datamap_bow.shape"
   ]
  },
  {
   "cell_type": "code",
   "execution_count": null,
   "id": "117de012-3301-4c06-8937-dd679b7b6975",
   "metadata": {},
   "outputs": [],
   "source": [
    "hover_text = (\n",
    "    metadata_interesting\n",
    "    .iloc[i_unique]\n",
    "    .assign(\n",
    "        count_summary=pd.Series(cmdline_counts, index=metadata_interesting.iloc[i_unique].index).apply(lambda c: f\"({c}x) \" if c > 1 else \"\"),\n",
    "        space=\" \"\n",
    "    )[[\"count_summary\", \"process_name\", \"space\", \"args\"]]\n",
    "    .fillna(\"\")\n",
    "    .sum(axis=1)\n",
    "    .apply(lambda cl: cl[:100] + \"[...]\" if len(cl) > 100 else cl)\n",
    "    .tolist()\n",
    ")\n",
    "pd.Series(hover_text)"
   ]
  },
  {
   "cell_type": "code",
   "execution_count": null,
   "id": "80cdde78-c1b1-4b93-80e7-b542842a50c4",
   "metadata": {},
   "outputs": [],
   "source": [
    "%%time\n",
    "plot_bow = dmp.create_interactive_plot(\n",
    "    datamap_bow,\n",
    "    metadata_interesting.iloc[i_unique][\"process_name\"],\n",
    "    hover_text = hover_text,\n",
    "    initial_zoom_fraction=0.75,\n",
    "    font_family=\"Roboto\",\n",
    "    title=\"ACME 3 processes\",\n",
    "    sub_title=\"Processes as bags of cooccurrence vectors of command line tokens\",\n",
    "    darkmode=True,\n",
    ")\n",
    "plot_bow"
   ]
  },
  {
   "cell_type": "code",
   "execution_count": null,
   "id": "3e61e4df-f52c-40e2-b7f3-cae93d869c6f",
   "metadata": {},
   "outputs": [],
   "source": [
    "cmdlines_bpe = jl.Parallel(n_jobs=os.cpu_count())(\n",
    "    jl.delayed(eng.bpe.bpe_encode)(cmdline, code_list, max_char_code=127)\n",
    "    for cmdline in tqdm(cmdlines.iloc[i_unique])\n",
    ")\n",
    "pd.Series(cmdlines_bpe)"
   ]
  },
  {
   "cell_type": "code",
   "execution_count": null,
   "id": "1b72a08d-4375-4251-9ca7-cc48686bd6d5",
   "metadata": {},
   "outputs": [],
   "source": [
    "%%time\n",
    "vz_cooc = vz.TokenCooccurrenceVectorizer(n_threads=4, n_iter=3).fit(cmdlines_bpe)\n",
    "tokens_cooc = vz_cooc.cooccurrences_\n",
    "tokens_cooc"
   ]
  },
  {
   "cell_type": "code",
   "execution_count": null,
   "id": "6ad1f4e7-f0eb-43f3-a1f0-bd77bd99bf6a",
   "metadata": {},
   "outputs": [],
   "source": [
    "%%time\n",
    "tokens_svd = TruncatedSVD(n_components=512).fit_transform(tokens_cooc.tocsr())\n",
    "tokens_svd.shape"
   ]
  },
  {
   "cell_type": "code",
   "execution_count": null,
   "id": "22c2b920-7e74-4758-9dda-772092eef636",
   "metadata": {},
   "outputs": [],
   "source": [
    "coo_distrib = np.array([\n",
    "    [row, token2unique[token], count]\n",
    "    for row, cc in enumerate(tqdm(cmdlines_bpe))\n",
    "    for token, count in zip(*np.unique(cc, return_counts=True))\n",
    "])\n",
    "distrib = sp.coo_matrix((coo_distrib[:, 2], (coo_distrib[:, 0], coo_distrib[:, 1])))\n",
    "distrib"
   ]
  },
  {
   "cell_type": "code",
   "execution_count": null,
   "id": "ee780cf9-0c28-4d64-99af-9c04a69f5c93",
   "metadata": {},
   "outputs": [],
   "source": [
    "%%time\n",
    "cmdlines_hg = vz.WassersteinVectorizer(max_distribution_size=tokens_svd.shape[0]).fit_transform(distrib, vectors=tokens_svd)\n",
    "cmdlines_hg.shape"
   ]
  },
  {
   "cell_type": "code",
   "execution_count": null,
   "id": "e45b18f5-11ad-42c1-a5ad-bab231d3e216",
   "metadata": {},
   "outputs": [],
   "source": [
    "%%time\n",
    "datamap_hg = umap.UMAP(n_neighbors=100, metric=\"cosine\", n_epochs=500, verbose=True).fit_transform(cmdlines_hg)\n",
    "datamap_hg.shape"
   ]
  },
  {
   "cell_type": "code",
   "execution_count": null,
   "id": "62fde383-628b-423b-8fbd-8a119c3efcce",
   "metadata": {},
   "outputs": [],
   "source": [
    "plot_hg = dmp.create_interactive_plot(\n",
    "    datamap_hg,\n",
    "    metadata_interesting.iloc[i_unique][\"process_name\"],\n",
    "    hover_text=hover_text,\n",
    "    font_family=\"Roboto\",\n",
    "    title=\"ACME 3 processes\",\n",
    "    sub_title=\"Processes as bags of cooccurrence vectors of command line tokens\",\n",
    "    enable_search=True,\n",
    "    darkmode=True,\n",
    ")\n",
    "plot_hg"
   ]
  },
  {
   "cell_type": "markdown",
   "id": "c235078e-7006-448d-a81c-db5987a77e9a",
   "metadata": {},
   "source": [
    "---"
   ]
  },
  {
   "cell_type": "code",
   "execution_count": null,
   "id": "499e3518-e6a4-40f9-915f-9960aedc0910",
   "metadata": {},
   "outputs": [],
   "source": [
    "%load_ext magic_duckdb"
   ]
  },
  {
   "cell_type": "code",
   "execution_count": null,
   "id": "b963c03f-5417-4932-9cc9-b3a7a4120181",
   "metadata": {},
   "outputs": [],
   "source": [
    "%dql -co db"
   ]
  },
  {
   "cell_type": "code",
   "execution_count": null,
   "id": "6023a036-66c6-4420-969c-e96323e4aff6",
   "metadata": {},
   "outputs": [],
   "source": [
    "%%dql\n",
    "select hostname, count(distinct pid_hash)\n",
    "from process\n",
    "group by hostname"
   ]
  },
  {
   "cell_type": "code",
   "execution_count": null,
   "id": "85055d01-10bd-4db8-946d-fb63b998f795",
   "metadata": {},
   "outputs": [],
   "source": [
    "procs = db.execute(\n",
    "    \"\"\"\n",
    "    select hostname, day, count(distinct pid_hash) as num\n",
    "    from (\n",
    "        select pid_hash, hostname, cast(datetrunc('day', process_started) as date) as day\n",
    "        from process_interesting\n",
    "        where process_started = first_seen\n",
    "    )\n",
    "    group by hostname, day\n",
    "    order by hostname, day\n",
    "    \"\"\"\n",
    ").df()\n",
    "procs_nona = procs.dropna(subset=[\"day\"])\n",
    "procs_per_hostday = procs_nona.loc[procs_nona[\"day\"] >= pd.Timestamp(\"2023-11-05\")].set_index([\"hostname\", \"day\"]).unstack(\"day\").fillna(0)\n",
    "procs_per_hostday"
   ]
  },
  {
   "cell_type": "markdown",
   "id": "47d2cfcf-d687-4f98-a03a-ff68d56f0912",
   "metadata": {},
   "source": [
    "---"
   ]
  },
  {
   "cell_type": "code",
   "execution_count": null,
   "id": "0240d927-bb9d-47b2-af0a-79bb6fe94da8",
   "metadata": {},
   "outputs": [],
   "source": [
    "%%dql\n",
    "describe process_image_load"
   ]
  },
  {
   "cell_type": "code",
   "execution_count": null,
   "id": "daedd23d-cc50-4e4e-872b-7b23c071a780",
   "metadata": {},
   "outputs": [],
   "source": [
    "%%dql\n",
    "create or replace view image_load as\n",
    "select pid_hash, process_image_load.hostname, process_image_load.first_seen as timestamp, process_interesting.process_name, process_image_load.filename\n",
    "from process_image_load\n",
    "inner join process_interesting using (pid_hash)"
   ]
  },
  {
   "cell_type": "code",
   "execution_count": null,
   "id": "b9e73dad-c276-4461-a98e-54ede92ebf9f",
   "metadata": {},
   "outputs": [],
   "source": [
    "%%dql -o process_x_image\n",
    "select pid_hash, process_name, array_agg(filename) as images, array_agg(timestamp) as timestamps\n",
    "from image_load\n",
    "group by pid_hash, process_name"
   ]
  },
  {
   "cell_type": "code",
   "execution_count": null,
   "id": "404133c1-4a49-426a-a55d-ab8a262f1f86",
   "metadata": {},
   "outputs": [],
   "source": [
    "%%time\n",
    "vz_ngram = vz.NgramVectorizer().fit(process_x_image[\"images\"])\n",
    "vz_ngram"
   ]
  },
  {
   "cell_type": "code",
   "execution_count": null,
   "id": "d3c65c91-273d-4325-93da-54952f5096ac",
   "metadata": {},
   "outputs": [],
   "source": [
    "procdlls_vec = vz_ngram._train_matrix\n",
    "procdlls_vec"
   ]
  },
  {
   "cell_type": "code",
   "execution_count": null,
   "id": "94f7472e-e793-456d-b847-6edce512728e",
   "metadata": {},
   "outputs": [],
   "source": [
    "%%time\n",
    "procdlls_iwt = vzt.InformationWeightTransformer().fit_transform(procdlls_vec)\n",
    "procdlls_iwt"
   ]
  },
  {
   "cell_type": "code",
   "execution_count": null,
   "id": "e907f84e-ee6e-4a03-9e8c-e58c930c7caf",
   "metadata": {},
   "outputs": [],
   "source": [
    "%%time\n",
    "_lil = procdlls_iwt.tolil()\n",
    "_, i_unique, i_deunique, procdlls_counts = np.unique(\n",
    "    [\n",
    "        [*md5(np.asarray(ind)).digest(), *md5(np.asarray(dat)).digest()]\n",
    "        for ind, dat in tqdm(zip(_lil.rows, _lil.data), total=procdlls_iwt.shape[0])\n",
    "    ],\n",
    "    axis=0,\n",
    "    return_index=True,\n",
    "    return_inverse=True,\n",
    "    return_counts=True\n",
    ")\n",
    "len(i_unique)"
   ]
  },
  {
   "cell_type": "code",
   "execution_count": null,
   "id": "d340469b-aec6-4da5-9dd1-6e051c48920d",
   "metadata": {},
   "outputs": [],
   "source": [
    "%%time\n",
    "procdlls_bow_map = umap.UMAP(\n",
    "    n_neighbors=15,\n",
    "    metric=\"hellinger\",\n",
    "    verbose=True\n",
    ").fit_transform(procdlls_iwt[i_unique, :])\n",
    "procdlls_bow_map"
   ]
  },
  {
   "cell_type": "code",
   "execution_count": null,
   "id": "d3754c96-c7c4-492d-b83c-89895f4e12b5",
   "metadata": {},
   "outputs": [],
   "source": [
    "i_good, = np.nonzero(~np.isnan(procdlls_bow_map[:, 0]))\n",
    "i_good"
   ]
  },
  {
   "cell_type": "code",
   "execution_count": null,
   "id": "2b76b0c5-1d4b-45f5-8efe-4a8d4304549f",
   "metadata": {},
   "outputs": [],
   "source": [
    "cmap = colormaps.get(\"plasma\")\n",
    "procdlls_labels = pd.DataFrame({\"label\": np.sort(process_x_image[\"process_name\"].iloc[i_unique].iloc[i_good].unique())})\n",
    "procdlls_labels[\"n\"] = np.arange(len(procdlls_labels)) / len(procdlls_labels)\n",
    "procdlls_labels[\"color\"] = procdlls_labels[\"n\"].map(cmap) #.map(lambda n: \"\".join(\"{:02x}\".format(c) for c in cmap(n, bytes=True)[:3]))\n",
    "procdlls_labels\n",
    "display(procdlls_labels)\n",
    "label2color = procdlls_labels.set_index(\"label\")[\"color\"].to_dict()"
   ]
  },
  {
   "cell_type": "code",
   "execution_count": null,
   "id": "ab2cd108-d7f2-4144-a453-fc88b359ee7c",
   "metadata": {},
   "outputs": [],
   "source": [
    "hover_text = [\n",
    "    (f\"({count}x) \" if count > 1 else \"\") + f\"{name}: \" + \" \".join(\n",
    "        [p.split(\"\\\\\")[-1] for p in imgs][:5]\n",
    "    ) + (f\" +{len(imgs) - 5}\" if len(imgs) > 5 else \"\")\n",
    "    for count, (name, imgs) in zip(procdlls_counts[i_good], process_x_image.iloc[i_unique].iloc[i_good][[\"process_name\", \"images\"]].itertuples(index=False))\n",
    "]\n",
    "pd.Series(hover_text)"
   ]
  },
  {
   "cell_type": "code",
   "execution_count": null,
   "id": "645e645a-64b7-4eb4-a857-7de1f9fcac60",
   "metadata": {},
   "outputs": [],
   "source": [
    "plot_bow2 = dmp.create_interactive_plot(\n",
    "    procdlls_bow_map[i_good, :],\n",
    "    process_x_image[\"process_name\"].iloc[i_unique].iloc[i_good],\n",
    "    hover_text=hover_text,\n",
    "    label_color_map=label2color,\n",
    "    font_family=\"Roboto\",\n",
    "    title=\"ACME 3 processes\",\n",
    "    sub_title=\"Processes as bags of DLLs\",\n",
    "    enable_search=True,\n",
    "    darkmode=True,\n",
    ")\n",
    "plot_bow2"
   ]
  },
  {
   "cell_type": "code",
   "execution_count": null,
   "id": "d32bf7f3-2520-41c3-bf32-5710a81f61ef",
   "metadata": {},
   "outputs": [],
   "source": [
    "%%time\n",
    "dll_cooc = vz.TokenCooccurrenceVectorizer().fit(process_x_image[\"images\"])\n",
    "dll_cooc.cooccurrences_"
   ]
  },
  {
   "cell_type": "code",
   "execution_count": null,
   "id": "0a371cb8-9fc2-46bc-b654-05ca15fb31ac",
   "metadata": {},
   "outputs": [],
   "source": [
    "%%time\n",
    "dll_svd = TruncatedSVD(n_components=512).fit_transform(dll_cooc.cooccurrences_)\n",
    "dll_svd.shape"
   ]
  },
  {
   "cell_type": "code",
   "execution_count": null,
   "id": "f8035cd2-8b4e-4048-afb5-deef52c8addf",
   "metadata": {},
   "outputs": [],
   "source": [
    "%%time\n",
    "coo_distrib = np.array([\n",
    "    (row, dll_cooc.token_label_dictionary_[token], count)\n",
    "    for row, images in enumerate(process_x_image[\"images\"])\n",
    "    for token, count in zip(*np.unique(images, return_counts=True))\n",
    "])\n",
    "distrib = sp.coo_matrix((coo_distrib[:, 2], (coo_distrib[:, 0], coo_distrib[:, 1])))\n",
    "distrib"
   ]
  },
  {
   "cell_type": "code",
   "execution_count": null,
   "id": "6d147a8b-efef-4819-9705-fa6d1b2902f9",
   "metadata": {},
   "outputs": [],
   "source": [
    "%%time\n",
    "procdlls_hg = vz.WassersteinVectorizer().fit_transform(distrib, vectors=dll_svd)\n",
    "procdlls_hg.shape"
   ]
  },
  {
   "cell_type": "code",
   "execution_count": null,
   "id": "090e8a0b-3846-413e-b244-e40ae5d9cb97",
   "metadata": {},
   "outputs": [],
   "source": [
    "%%time\n",
    "procdlls_hg_map = umap.UMAP(metric=\"cosine\", verbose=True).fit_transform(procdlls_hg)"
   ]
  },
  {
   "cell_type": "code",
   "execution_count": null,
   "id": "e1369905-b115-49c9-8a8d-1a7593d8e03a",
   "metadata": {},
   "outputs": [],
   "source": [
    "hover_text = [\n",
    "    f\"{name}: \" + \" \".join(\n",
    "        [p.split(\"\\\\\")[-1] for p in imgs][:5]\n",
    "    ) + (f\" +{len(imgs) - 5}\" if len(imgs) > 5 else \"\")\n",
    "    for name, imgs in process_x_image[[\"process_name\", \"images\"]].itertuples(index=False)\n",
    "]\n",
    "pd.Series(hover_text)"
   ]
  },
  {
   "cell_type": "code",
   "execution_count": null,
   "id": "d77cbe48-a880-41f6-9b53-a61ea0558abc",
   "metadata": {},
   "outputs": [],
   "source": [
    "plot_hg2 = dmp.create_interactive_plot(\n",
    "    procdlls_hg_map,\n",
    "    process_x_image[\"process_name\"],\n",
    "    hover_text=hover_text,\n",
    "    font_family=\"Roboto\",\n",
    "    title=\"ACME 3 processes\",\n",
    "    sub_title=\"Processes as bags of DLL cooccurrence vectors\",\n",
    "    enable_search=True,\n",
    "    darkmode=True,\n",
    ")\n",
    "plot_hg2"
   ]
  },
  {
   "cell_type": "code",
   "execution_count": null,
   "id": "da3a7807-c1b1-4b59-b890-520c9213851d",
   "metadata": {},
   "outputs": [],
   "source": []
  }
 ],
 "metadata": {
  "kernelspec": {
   "display_name": "main-4 (ACME3) *",
   "language": "python",
   "name": "conda-env-main-4-py"
  },
  "language_info": {
   "codemirror_mode": {
    "name": "ipython",
    "version": 3
   },
   "file_extension": ".py",
   "mimetype": "text/x-python",
   "name": "python",
   "nbconvert_exporter": "python",
   "pygments_lexer": "ipython3",
   "version": "3.9.19"
  }
 },
 "nbformat": 4,
 "nbformat_minor": 5
}
