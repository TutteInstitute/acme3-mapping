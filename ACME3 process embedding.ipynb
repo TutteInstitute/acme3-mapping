{
 "cells": [
  {
   "cell_type": "code",
   "execution_count": null,
   "id": "0dcdae2d-ee9b-4b75-9fc2-446b1a5bafd5",
   "metadata": {},
   "outputs": [],
   "source": [
    "%%time\n",
    "import bokeh.io\n",
    "import datamapplot as dmp\n",
    "import duckdb\n",
    "from fast_hdbscan import HDBSCAN\n",
    "from hashlib import md5\n",
    "import matplotlib.pyplot as plt\n",
    "import numpy as np\n",
    "import pandas as pd\n",
    "import panel as pn\n",
    "import shlex\n",
    "import thisnotthat as tnt\n",
    "from tqdm.auto import tqdm\n",
    "import umap\n",
    "# import vectorizers as vz\n",
    "import vectorizers.transformers as vzt\n",
    "\n",
    "import eng.bpe"
   ]
  },
  {
   "cell_type": "code",
   "execution_count": null,
   "id": "5168488e-2aef-4cfa-9daa-baea482687ba",
   "metadata": {},
   "outputs": [],
   "source": [
    "bokeh.io.output_notebook()\n",
    "pn.extension()"
   ]
  },
  {
   "cell_type": "code",
   "execution_count": null,
   "id": "20efa376-cd2c-4a77-9c3c-f37e6fc520ad",
   "metadata": {},
   "outputs": [],
   "source": [
    "tqdm.pandas()"
   ]
  },
  {
   "cell_type": "code",
   "execution_count": null,
   "id": "3228f79f-0488-4932-a651-0ef8c2e8b5bd",
   "metadata": {},
   "outputs": [],
   "source": [
    "db = duckdb.connect(\":memory:\")\n",
    "for table in [\"process\", \"process_path\"]:\n",
    "    db.execute(f\"create or replace view {table} as select * from parquet_scan('/data/acme3/stdview-20231105-20231120/{table}.parquet')\")"
   ]
  },
  {
   "cell_type": "code",
   "execution_count": null,
   "id": "f8e998ed-9e7f-4850-affb-72427e79388f",
   "metadata": {},
   "outputs": [],
   "source": [
    "db.execute(\n",
    "    \"\"\"\n",
    "    create or replace view process_interesting as\n",
    "    select process.*, process_path.ptree as ptree\n",
    "    from process\n",
    "    inner join process_path using (pid_hash)\n",
    "    where process_path.ptree not like '%wintap%' and process_path.ptree not like '%amazon-ssm%'\n",
    "    \"\"\"\n",
    ")"
   ]
  },
  {
   "cell_type": "code",
   "execution_count": null,
   "id": "0da64238-cc73-4e8c-b61e-15465d675ce4",
   "metadata": {},
   "outputs": [],
   "source": [
    "%%time\n",
    "metadata_interesting = db.execute(\n",
    "    \"\"\"\n",
    "    select pid_hash, parent_pid_hash, process_name, process_path, args, ptree\n",
    "    from process_interesting\n",
    "    order by pid_hash\n",
    "    \"\"\"\n",
    ").df()\n",
    "metadata_interesting"
   ]
  },
  {
   "cell_type": "code",
   "execution_count": null,
   "id": "b8ee28cf-f08b-4284-afb6-5e3f211e8b20",
   "metadata": {},
   "outputs": [],
   "source": [
    "cmdlines = (\n",
    "    metadata_interesting\n",
    "    .assign(space=\" \")[[\"process_path\", \"space\", \"args\"]]\n",
    "    .dropna(subset=[\"process_path\"]).fillna(\"\")\n",
    "    .sum(axis=1)\n",
    "    .str.strip()\n",
    "    .str.encode(\"ascii\", errors=\"backslashreplace\")\n",
    "    .str.decode(\"ascii\")\n",
    ")\n",
    "cmdlines"
   ]
  },
  {
   "cell_type": "code",
   "execution_count": null,
   "id": "5743e861-e0e8-499c-97f6-1486e42b5846",
   "metadata": {},
   "outputs": [],
   "source": [
    "%%time\n",
    "tokens, code_list, cmdlines_compressed = eng.bpe.train(cmdlines.unique().tolist(), vocab_size=600, max_char_code=127)\n",
    "len(code_list), np.min([len(cc) for cc in cmdlines_compressed])"
   ]
  },
  {
   "cell_type": "code",
   "execution_count": null,
   "id": "0e06f291-0e95-4e90-89d9-b1e9edf111a1",
   "metadata": {},
   "outputs": [],
   "source": [
    "%%time\n",
    "cmdlines_vec = eng.bpe.vectorize(cmdlines.tolist(), code_list, max_char_code=127)\n",
    "cmdlines_vec"
   ]
  },
  {
   "cell_type": "code",
   "execution_count": null,
   "id": "ba09ae93-054d-490e-8afd-b159ab51783e",
   "metadata": {},
   "outputs": [],
   "source": [
    "%%time\n",
    "cmdlines_iwt = vzt.InformationWeightTransformer().fit_transform(cmdlines_vec)\n",
    "cmdlines_iwt"
   ]
  },
  {
   "cell_type": "code",
   "execution_count": null,
   "id": "8e795095-a9b3-4a92-85da-d4f288ffb289",
   "metadata": {},
   "outputs": [],
   "source": [
    "%%time\n",
    "_lil = cmdlines_iwt.tolil()\n",
    "_, i_unique, i_deunique, cmdline_counts = np.unique(\n",
    "    [\n",
    "        [*md5(np.asarray(ind)).digest(), *md5(np.asarray(dat)).digest()]\n",
    "        for ind, dat in tqdm(zip(_lil.rows, _lil.data), total=cmdlines_iwt.shape[0])\n",
    "    ],\n",
    "    axis=0,\n",
    "    return_index=True,\n",
    "    return_inverse=True,\n",
    "    return_counts=True\n",
    ")\n",
    "len(i_unique)"
   ]
  },
  {
   "cell_type": "code",
   "execution_count": null,
   "id": "a298312b-5fac-4914-9483-c62dec376e8d",
   "metadata": {},
   "outputs": [],
   "source": [
    "%%time\n",
    "U_bow = umap.UMAP(metric=\"hellinger\", init=\"pca\", verbose=True).fit(cmdlines_iwt[i_unique, :])\n",
    "cmdlines_bow = U_bow.embedding_[i_deunique, :]\n",
    "cmdlines_bow.shape"
   ]
  },
  {
   "cell_type": "code",
   "execution_count": null,
   "id": "d01f592d-2889-458a-84fc-ec151f36050f",
   "metadata": {},
   "outputs": [],
   "source": [
    "datamap_bow = U_bow.embedding_\n",
    "datamap_bow.shape"
   ]
  },
  {
   "cell_type": "raw",
   "id": "ceb14c5f-2b4c-49fb-b9d4-fe4ffe49c795",
   "metadata": {},
   "source": [
    "%%time\n",
    "clusters = HDBSCAN(cluster_selection_method=\"leaf\").fit_predict(cmdlines_bow)\n",
    "clusters_u = np.unique(clusters)\n",
    "num_clusters_unique = len(clusters_u[clusters_u >= 0])\n",
    "num_points_noise = len(clusters[clusters == -1])\n",
    "num_clusters_unique, num_points_noise"
   ]
  },
  {
   "cell_type": "raw",
   "id": "6dc9529b-cdb9-4244-9aff-b1c5804804dd",
   "metadata": {},
   "source": [
    "i_sort = np.argsort(clusters)\n",
    "_, index_cut, cluster_counts = np.unique(clusters[i_sort], return_index=True, return_counts=True)\n",
    "medoids = np.array([\n",
    "    np.median(np.array(cmdlines_iwt[i_points_cluster, :].todense()), axis=0)\n",
    "    for i_points_cluster in tqdm(np.split(i_sort, index_cut)[1 + int(num_points_noise > 0):])\n",
    "])\n",
    "medoids.shape"
   ]
  },
  {
   "cell_type": "raw",
   "id": "c6511838-59be-42e2-8ee4-2712f371902f",
   "metadata": {},
   "source": [
    "%%time\n",
    "U_bow._knn_search_index.prepare()"
   ]
  },
  {
   "cell_type": "raw",
   "id": "98051339-2c71-48b3-ace9-af3f23a3da17",
   "metadata": {},
   "source": [
    "%%time\n",
    "nn, _ = U_bow._knn_search_index.query(medoids, k=1)\n",
    "nn.shape"
   ]
  },
  {
   "cell_type": "raw",
   "id": "5b312e13-faad-4631-b8c3-1c5e03922f2b",
   "metadata": {},
   "source": [
    "datamap_bow = U_bow.embedding_[nn.squeeze(), :]\n",
    "datamap_bow.shape"
   ]
  },
  {
   "cell_type": "code",
   "execution_count": null,
   "id": "e05fdb08-ae36-49a1-a06d-b19fbbc63ad5",
   "metadata": {},
   "outputs": [],
   "source": [
    "def summarize_args(cmdline_args):\n",
    "    if cmdline_args:\n",
    "        try:\n",
    "            args = shlex.split(cmdline_args, posix=False)\n",
    "        except ValueError:\n",
    "            try:\n",
    "                args = shlex.split(cmdline_args, posix=True)\n",
    "            except ValueError:\n",
    "                return f\" (unparsable args)\"\n",
    "\n",
    "        num_args = len(args)\n",
    "        if num_args > 1:\n",
    "            return f\" (+{num_args} args)\"\n",
    "        elif num_args == 1:\n",
    "            return f\" {args[0]}\"\n",
    "\n",
    "    return \" (no arg)\""
   ]
  },
  {
   "cell_type": "code",
   "execution_count": null,
   "id": "117de012-3301-4c06-8937-dd679b7b6975",
   "metadata": {},
   "outputs": [],
   "source": [
    "hover_text = (\n",
    "    metadata_interesting\n",
    "    .assign(args_summary=metadata_interesting[\"args\"].fillna(\"\").progress_apply(summarize_args))\n",
    "    .iloc[i_unique]\n",
    "    .assign(count_summary=pd.Series(cmdline_counts, index=metadata_interesting.iloc[i_unique].index).progress_apply(lambda c: f\"[{c}x] \" if c > 1 else \"\"))[\n",
    "        [\"count_summary\", \"process_name\", \"args_summary\"]\n",
    "    ]\n",
    "    .sum(axis=1)\n",
    "    .tolist()\n",
    ")\n",
    "len(hover_text), hover_text[-10:]"
   ]
  },
  {
   "cell_type": "code",
   "execution_count": null,
   "id": "7054c7f6-375f-4850-95e7-c5f5fd8fa89f",
   "metadata": {},
   "outputs": [],
   "source": [
    "labels = [\"???\"] * datamap_bow.shape[0]\n",
    "len(labels)"
   ]
  },
  {
   "cell_type": "code",
   "execution_count": null,
   "id": "c604e2b1-bf9c-42f8-9ec9-b35c98231101",
   "metadata": {},
   "outputs": [],
   "source": [
    "plot = tnt.BokehPlotPane(\n",
    "    data=datamap_bow,\n",
    "    labels=labels,\n",
    "    hover_text=hover_text,\n",
    "    width=800,\n",
    "    height=800,\n",
    "    show_legend=False\n",
    ")\n",
    "editor = tnt.LabelEditorWidget(plot.labels)\n",
    "editor.link_to_plot(plot)\n",
    "pn.Row(plot, editor)"
   ]
  },
  {
   "cell_type": "code",
   "execution_count": null,
   "id": "5f8cc8e8-394a-4efb-9e1b-350b4324e75d",
   "metadata": {},
   "outputs": [],
   "source": [
    "dataa = np.array([[3, 4], [8, 9], [1, -1]])\n",
    "plot = tnt.BokehPlotPane(dataa, width=600, height=600, show_legend=False)\n",
    "pn.Row(plot)"
   ]
  },
  {
   "cell_type": "code",
   "execution_count": null,
   "id": "55ee6763-32ec-451f-8b66-4107966de345",
   "metadata": {},
   "outputs": [],
   "source": [
    "dmp"
   ]
  }
 ],
 "metadata": {
  "kernelspec": {
   "display_name": "ACME3 (main-4)",
   "language": "python",
   "name": "conda-env-main-4-py"
  },
  "language_info": {
   "codemirror_mode": {
    "name": "ipython",
    "version": 3
   },
   "file_extension": ".py",
   "mimetype": "text/x-python",
   "name": "python",
   "nbconvert_exporter": "python",
   "pygments_lexer": "ipython3",
   "version": "3.11.9"
  }
 },
 "nbformat": 4,
 "nbformat_minor": 5
}
