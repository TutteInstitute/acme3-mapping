{
 "cells": [
  {
   "cell_type": "markdown",
   "id": "0699a29b-8d4a-40ed-b7ed-5cf1394ba30b",
   "metadata": {},
   "source": [
    "# Comparing data maps\n",
    "\n",
    "In [this talk](https://docs.google.com/presentation/d/1wIPd4KIlEngB43lmyM-W2GoChWyHBf-cDlk4sdsYgD4/edit#slide=id.g2e9451582b7_0_918),\n",
    "I displayed a side-by-side view of the data maps of command line embeddings as a [bag of tokens](1%20Command%20lines%20-%20Bags%20of%20words.ipynb) and as [distributions over a cloud of cooccurrence vectors](2%20Command%20lines%20-%20Wasserstein%20embedding.ipynb).\n",
    "This is a surprisingly tricky thing to produce,\n",
    "because UMAP produces an intrinsically random projection\n",
    "(because it relies on a multi-thread stochastic gradient descent).\n",
    "There are ways to minimize the random differences induced by having to crunch both vector sets through distinct UMAP computations.\n",
    "\n",
    "---\n",
    "\n",
    "**Goal of this notebook**: demonstrate how to produce a pair of visually comparable data maps.\n",
    "\n",
    "---"
   ]
  },
  {
   "cell_type": "code",
   "execution_count": 1,
   "id": "a8baa0bb-6d06-4322-bde0-569f75cd0819",
   "metadata": {},
   "outputs": [],
   "source": [
    "import datamapplot as dmp\n",
    "import json\n",
    "import matplotlib.pyplot as plt\n",
    "import numpy as np\n",
    "import pandas as pd\n",
    "from pathlib import Path\n",
    "import scipy.sparse\n",
    "import umap\n",
    "import vectorizers as vz\n",
    "import vectorizers.transformers as vzt"
   ]
  },
  {
   "cell_type": "raw",
   "id": "d7e8bee5-4d6e-4916-85f4-09ecd9a7d335",
   "metadata": {},
   "source": [
    "Gather up the uniquing projection of command lines,\n",
    "which we will need to produce cluster labels."
   ]
  },
  {
   "cell_type": "raw",
   "id": "bc2c5f14-3237-4fb3-a8b0-4ab10a1190ca",
   "metadata": {},
   "source": [
    "with np.load(\"cmdlines_unique.npz\", allow_pickle=True) as store_cmdlines_unique:\n",
    "    i_unique = store_cmdlines_unique[\"i_unique\"]"
   ]
  },
  {
   "cell_type": "markdown",
   "id": "4f074f75-9161-4773-ac53-5e103a5f8319",
   "metadata": {},
   "source": [
    "Get the bag-of-words data map.\n",
    "It is the model that the other data map will be aligned to.\n",
    "Get also the index that discards the [invalid points](1%20Command%20lines%20-%20Bags%20of%20words.ipynb#invalid) from the bag of words: we can only compare actual valid embeddings.\n",
    "Thus, our side-by-side plot will involve a restriction of the Wasserstein embedding data map to this set of valid points."
   ]
  },
  {
   "cell_type": "code",
   "execution_count": 2,
   "id": "bd2c4b44-a3ad-4a2c-bfa1-178b548013cd",
   "metadata": {},
   "outputs": [],
   "source": [
    "with np.load(\"cmdlines_bagofwords.npz\") as store_bagofwords:\n",
    "    index_valid = store_bagofwords[\"index_valid\"]\n",
    "    bagofwords_dmap_valid = store_bagofwords[\"datamap\"][index_valid]"
   ]
  },
  {
   "cell_type": "markdown",
   "id": "f44ac92c-0f11-4e6e-a936-445f729d4334",
   "metadata": {},
   "source": [
    "Fetch the Wasserstein embedding."
   ]
  },
  {
   "cell_type": "code",
   "execution_count": 3,
   "id": "808e1822-cee2-4002-a2b2-2c985fb5d2da",
   "metadata": {},
   "outputs": [],
   "source": [
    "with np.load(\"cmdlines_wasserstein.npz\") as store_wasserstein:\n",
    "    cmdlines_wasserstein = store_wasserstein[\"cmdlines\"]"
   ]
  },
  {
   "cell_type": "markdown",
   "id": "26c3492f-4765-4ed9-bb80-44fe82ded1c0",
   "metadata": {},
   "source": [
    "We now crunch the UMAP compression of the Wasserstein embedding, but with a twist:\n",
    "we initialize the embedding with the data map we want to compare with,\n",
    "in the hope that the only differences that get derived from this starting point stem from differences between embedding methods."
   ]
  },
  {
   "cell_type": "code",
   "execution_count": 4,
   "id": "5a16d88a-b1ec-45f5-87d7-31ecaef5419d",
   "metadata": {},
   "outputs": [
    {
     "name": "stdout",
     "output_type": "stream",
     "text": [
      "UMAP(angular_rp_forest=True, init=array([[17.662422  , -8.094102  ],\n",
      "       [17.662432  , -8.094071  ],\n",
      "       [17.662428  , -8.094079  ],\n",
      "       ...,\n",
      "       [-4.3010616 , 13.551044  ],\n",
      "       [ 3.6941457 , 0.49649546],\n",
      "       [ 3.0759356 , 0.6824077 ]], dtype=float32), metric='cosine', verbose=True)\n",
      "Wed Jul 10 07:56:01 2024 Construct fuzzy simplicial set\n",
      "Wed Jul 10 07:56:01 2024 Finding Nearest Neighbors\n",
      "Wed Jul 10 07:56:01 2024 Building RP forest with 14 trees\n",
      "Wed Jul 10 07:56:03 2024 NN descent for 15 iterations\n",
      "\t 1  /  15\n",
      "\t 2  /  15\n",
      "\t 3  /  15\n",
      "\t 4  /  15\n",
      "\t 5  /  15\n",
      "\tStopping threshold met -- exiting after 5 iterations\n",
      "Wed Jul 10 07:56:07 2024 Finished Nearest Neighbor Search\n",
      "Wed Jul 10 07:56:08 2024 Construct embedding\n"
     ]
    },
    {
     "data": {
      "application/vnd.jupyter.widget-view+json": {
       "model_id": "0f5487d7f7404657b4661537fe8ad1fb",
       "version_major": 2,
       "version_minor": 0
      },
      "text/plain": [
       "Epochs completed:   0%|            0/200 [00:00]"
      ]
     },
     "metadata": {},
     "output_type": "display_data"
    },
    {
     "name": "stdout",
     "output_type": "stream",
     "text": [
      "\tcompleted  0  /  200 epochs\n",
      "\tcompleted  20  /  200 epochs\n",
      "\tcompleted  40  /  200 epochs\n",
      "\tcompleted  60  /  200 epochs\n",
      "\tcompleted  80  /  200 epochs\n",
      "\tcompleted  100  /  200 epochs\n",
      "\tcompleted  120  /  200 epochs\n",
      "\tcompleted  140  /  200 epochs\n",
      "\tcompleted  160  /  200 epochs\n",
      "\tcompleted  180  /  200 epochs\n",
      "Wed Jul 10 07:56:15 2024 Finished embedding\n",
      "CPU times: user 34 s, sys: 415 ms, total: 34.4 s\n",
      "Wall time: 13.3 s\n"
     ]
    }
   ],
   "source": [
    "%%time\n",
    "wasserstein_dmap = umap.UMAP(metric=\"cosine\", init=bagofwords_dmap_valid, verbose=True)\\\n",
    "    .fit_transform(cmdlines_wasserstein[index_valid])"
   ]
  },
  {
   "cell_type": "markdown",
   "id": "807805eb-a57a-403f-b8cf-64159920e314",
   "metadata": {},
   "source": [
    "Finally, we calculate a [Procrustes alignment](https://en.wikipedia.org/wiki/Procrustes_analysis) between the two maps."
   ]
  },
  {
   "cell_type": "code",
   "execution_count": 5,
   "id": "394935af-1efc-4361-ab9b-b237135e3f06",
   "metadata": {},
   "outputs": [],
   "source": [
    "bagofwords_dmap_a, wasserstein_dmap_a = vz.utils.procrustes_align(bagofwords_dmap_valid, wasserstein_dmap, scale_to=\"first\")"
   ]
  },
  {
   "cell_type": "markdown",
   "id": "0723c9d4-d938-4564-80f3-4044fbae2cb9",
   "metadata": {},
   "source": [
    "Get the plotting metadata generated in notebook 1,\n",
    "restrict it to valid points."
   ]
  },
  {
   "cell_type": "code",
   "execution_count": 6,
   "id": "ac581b31-80e5-4a57-883e-0db71d29f141",
   "metadata": {},
   "outputs": [
    {
     "data": {
      "text/html": [
       "<div>\n",
       "<style scoped>\n",
       "    .dataframe tbody tr th:only-of-type {\n",
       "        vertical-align: middle;\n",
       "    }\n",
       "\n",
       "    .dataframe tbody tr th {\n",
       "        vertical-align: top;\n",
       "    }\n",
       "\n",
       "    .dataframe thead th {\n",
       "        text-align: right;\n",
       "    }\n",
       "</style>\n",
       "<table border=\"1\" class=\"dataframe\">\n",
       "  <thead>\n",
       "    <tr style=\"text-align: right;\">\n",
       "      <th></th>\n",
       "      <th>labels</th>\n",
       "      <th>hover_text</th>\n",
       "    </tr>\n",
       "  </thead>\n",
       "  <tbody>\n",
       "    <tr>\n",
       "      <th>2</th>\n",
       "      <td>Unlabelled</td>\n",
       "      <td>\"%systemroot%\\system32\\musnotificationux.exe\" ...</td>\n",
       "    </tr>\n",
       "    <tr>\n",
       "      <th>3</th>\n",
       "      <td>Unlabelled</td>\n",
       "      <td>\"%systemroot%\\system32\\musnotificationux.exe\" ...</td>\n",
       "    </tr>\n",
       "    <tr>\n",
       "      <th>4</th>\n",
       "      <td>Unlabelled</td>\n",
       "      <td>\"%systemroot%\\system32\\musnotificationux.exe\" ...</td>\n",
       "    </tr>\n",
       "    <tr>\n",
       "      <th>5</th>\n",
       "      <td>Unlabelled</td>\n",
       "      <td>\"%systemroot%\\system32\\musnotificationux.exe\" ...</td>\n",
       "    </tr>\n",
       "    <tr>\n",
       "      <th>6</th>\n",
       "      <td>Unlabelled</td>\n",
       "      <td>\"%systemroot%\\system32\\musnotificationux.exe\" ...</td>\n",
       "    </tr>\n",
       "    <tr>\n",
       "      <th>...</th>\n",
       "      <td>...</td>\n",
       "      <td>...</td>\n",
       "    </tr>\n",
       "    <tr>\n",
       "      <th>30986</th>\n",
       "      <td>Unlabelled</td>\n",
       "      <td>\"systemroot\\system32\\smss.exe\" 00000170 0000008c</td>\n",
       "    </tr>\n",
       "    <tr>\n",
       "      <th>30987</th>\n",
       "      <td>Unlabelled</td>\n",
       "      <td>\"systemroot\\system32\\smss.exe\" 00000174 0000008c</td>\n",
       "    </tr>\n",
       "    <tr>\n",
       "      <th>30988</th>\n",
       "      <td>Unlabelled</td>\n",
       "      <td>\"systemroot\\system32\\smss.exe\" 00000180 0000008c</td>\n",
       "    </tr>\n",
       "    <tr>\n",
       "      <th>30989</th>\n",
       "      <td>bash.exe</td>\n",
       "      <td>(80x) \"usr\\bin\\bash.exe\" --norc -c \"export pat...</td>\n",
       "    </tr>\n",
       "    <tr>\n",
       "      <th>30990</th>\n",
       "      <td>Unlabelled</td>\n",
       "      <td>(18x) \"usr\\bin\\mintty.exe\" --nodaemon -o appid...</td>\n",
       "    </tr>\n",
       "  </tbody>\n",
       "</table>\n",
       "<p>29274 rows × 2 columns</p>\n",
       "</div>"
      ],
      "text/plain": [
       "           labels                                         hover_text\n",
       "2      Unlabelled  \"%systemroot%\\system32\\musnotificationux.exe\" ...\n",
       "3      Unlabelled  \"%systemroot%\\system32\\musnotificationux.exe\" ...\n",
       "4      Unlabelled  \"%systemroot%\\system32\\musnotificationux.exe\" ...\n",
       "5      Unlabelled  \"%systemroot%\\system32\\musnotificationux.exe\" ...\n",
       "6      Unlabelled  \"%systemroot%\\system32\\musnotificationux.exe\" ...\n",
       "...           ...                                                ...\n",
       "30986  Unlabelled   \"systemroot\\system32\\smss.exe\" 00000170 0000008c\n",
       "30987  Unlabelled   \"systemroot\\system32\\smss.exe\" 00000174 0000008c\n",
       "30988  Unlabelled   \"systemroot\\system32\\smss.exe\" 00000180 0000008c\n",
       "30989    bash.exe  (80x) \"usr\\bin\\bash.exe\" --norc -c \"export pat...\n",
       "30990  Unlabelled  (18x) \"usr\\bin\\mintty.exe\" --nodaemon -o appid...\n",
       "\n",
       "[29274 rows x 2 columns]"
      ]
     },
     "execution_count": 6,
     "metadata": {},
     "output_type": "execute_result"
    }
   ],
   "source": [
    "metadata_cmdlines_valid = pd.read_parquet(\"cmdlines_labels_hovertext.parquet\").iloc[index_valid]\n",
    "metadata_cmdlines_valid"
   ]
  },
  {
   "cell_type": "markdown",
   "id": "b77e863f-bffa-4846-8b6f-f72345160e18",
   "metadata": {},
   "source": [
    "Get also the color map generated in notebook 1."
   ]
  },
  {
   "cell_type": "code",
   "execution_count": 7,
   "id": "33939df9-ea3e-4816-820b-53e320968387",
   "metadata": {},
   "outputs": [
    {
     "data": {
      "text/plain": [
       "{'svchost.exe': '#0c71ff',\n",
       " 'conhost.exe': '#ca2800',\n",
       " 'taskhostw.exe': '#ff28ba',\n",
       " 'mscorsvw.exe': '#000096',\n",
       " 'microsoftedgeupdate.exe': '#86e300',\n",
       " 'mousocoreworker.exe': '#1c5951',\n",
       " 'msedge.exe': '#20d2ff',\n",
       " 'sppsvc.exe': '#20ae86',\n",
       " 'mergehelper.exe': '#590000',\n",
       " 'git.exe': '#65008e',\n",
       " 'backgroundtaskhost.exe': '#b6005d',\n",
       " 'bash.exe': '#ffaa96',\n",
       " 'ngen.exe': '#ba10c2',\n",
       " 'cmd.exe': '#510039',\n",
       " 'wmiprvse.exe': '#00650c',\n",
       " 'compattelrunner.exe': '#0096a6',\n",
       " 'wermgr.exe': '#20aa00',\n",
       " 'ls.exe': '#ffaeeb',\n",
       " 'googleupdate.exe': '#ff316d',\n",
       " 'reg.exe': '#0431ff',\n",
       " 'rundll32.exe': '#31e7ce',\n",
       " 'ngentask.exe': '#eb65ff',\n",
       " 'wsqmcons.exe': '#ff6d2d',\n",
       " 'powershell.exe': '#8a2071',\n",
       " 'python.exe': '#24ffa6',\n",
       " 'Unlabelled': '#dddddd'}"
      ]
     },
     "execution_count": 7,
     "metadata": {},
     "output_type": "execute_result"
    }
   ],
   "source": [
    "label_color_map = json.loads(Path(\"color_map.json\").read_text(encoding=\"utf-8\"))\n",
    "label_color_map"
   ]
  },
  {
   "cell_type": "markdown",
   "id": "3ee2f17d-3457-484f-950e-9508222a3a70",
   "metadata": {},
   "source": [
    "Now, we produce a static figure of both data maps respectively,\n",
    "using corresponding parameters.\n",
    "To not spoil the surprise, we delay the showing of the data map figures produced by `datamapplot.create_plot`,\n",
    "and save them to PNGs that can be shown afterwards."
   ]
  },
  {
   "cell_type": "code",
   "execution_count": 8,
   "id": "cbec3417-03bc-4391-a9d6-b86d3df9be7b",
   "metadata": {},
   "outputs": [
    {
     "name": "stdout",
     "output_type": "stream",
     "text": [
      "CPU times: user 28.9 s, sys: 1.3 s, total: 30.2 s\n",
      "Wall time: 29 s\n"
     ]
    }
   ],
   "source": [
    "%%time\n",
    "fig, _ = dmp.create_plot(\n",
    "    bagofwords_dmap_a,\n",
    "    labels=metadata_cmdlines_valid[\"labels\"],\n",
    "    title=\"Process instances\",\n",
    "    sub_title=\"as bags of information-reweighted parsed command line tokens\",\n",
    "    font_family=\"Roboto\",\n",
    "    figsize=(8, 8),\n",
    "    label_font_size=9.,\n",
    "    use_medoids=True,\n",
    "    darkmode=False,\n",
    "    label_color_map=label_color_map,\n",
    ")\n",
    "fig.savefig(\"bagofwords.png\", bbox_inches=\"tight\")\n",
    "plt.close(fig)"
   ]
  },
  {
   "cell_type": "code",
   "execution_count": 9,
   "id": "d235f421-e760-4c2c-840d-0342d8e6cad2",
   "metadata": {},
   "outputs": [
    {
     "name": "stdout",
     "output_type": "stream",
     "text": [
      "CPU times: user 23.1 s, sys: 1.28 s, total: 24.4 s\n",
      "Wall time: 24.9 s\n"
     ]
    }
   ],
   "source": [
    "%%time\n",
    "fig, _ = dmp.create_plot(\n",
    "    wasserstein_dmap_a,\n",
    "    labels=metadata_cmdlines_valid[\"labels\"],\n",
    "    title=\"Process instances\",\n",
    "    sub_title=\"as distributions over a cloud of command line token cooccurrence vectors\",\n",
    "    font_family=\"Roboto\",\n",
    "    figsize=(8, 8),\n",
    "    label_font_size=9.,\n",
    "    use_medoids=True,\n",
    "    darkmode=False,\n",
    "    label_color_map=label_color_map,\n",
    ")\n",
    "fig.savefig(\"wasserstein.png\", bbox_inches=\"tight\")\n",
    "plt.close(fig)"
   ]
  },
  {
   "cell_type": "markdown",
   "id": "76509b8f-989a-499c-8c4f-02a1b6d9fc29",
   "metadata": {},
   "source": [
    "Now behold! This side-by-side view helps a lot with appreciating the improvements brought on by Wasserstein embedding over the bag-of-words approach.\n",
    "In particular, observe how each cluster label is _much_ closer to the same-color cluster of points:\n",
    "this is because the labeled points accrete in a smaller subspace with the Wasserstein embedding,\n",
    "instead of the tendancy of the bag of words of having related things dispersed all over."
   ]
  },
  {
   "cell_type": "code",
   "execution_count": 10,
   "id": "9621a0cf-ca49-407b-b796-1b32b695f76b",
   "metadata": {},
   "outputs": [
    {
     "data": {
      "text/html": [
       "<style>\n",
       "    .container {\n",
       "        display: flex;\n",
       "    }\n",
       "    .figure {\n",
       "        flex: 1;\n",
       "    }\n",
       "    .figure > img {\n",
       "        width: 100%;\n",
       "    }\n",
       "</style>\n",
       "<div class=\"container\">\n",
       "    <div class=\"figure\"><img src=\"bagofwords.png\"></div>\n",
       "    <div class=\"figure\"><img src=\"wasserstein.png\"></div>\n",
       "</div>\n"
      ],
      "text/plain": [
       "<IPython.core.display.HTML object>"
      ]
     },
     "metadata": {},
     "output_type": "display_data"
    }
   ],
   "source": [
    "%%html\n",
    "<style>\n",
    "    .container {\n",
    "        display: flex;\n",
    "    }\n",
    "    .figure {\n",
    "        flex: 1;\n",
    "    }\n",
    "    .figure > img {\n",
    "        width: 100%;\n",
    "    }\n",
    "</style>\n",
    "<div class=\"container\">\n",
    "    <div class=\"figure\"><img src=\"bagofwords.png\"></div>\n",
    "    <div class=\"figure\"><img src=\"wasserstein.png\"></div>\n",
    "</div>"
   ]
  }
 ],
 "metadata": {
  "kernelspec": {
   "display_name": "Python 3 (ipykernel)",
   "language": "python",
   "name": "python3"
  },
  "language_info": {
   "codemirror_mode": {
    "name": "ipython",
    "version": 3
   },
   "file_extension": ".py",
   "mimetype": "text/x-python",
   "name": "python",
   "nbconvert_exporter": "python",
   "pygments_lexer": "ipython3",
   "version": "3.12.4"
  }
 },
 "nbformat": 4,
 "nbformat_minor": 5
}
