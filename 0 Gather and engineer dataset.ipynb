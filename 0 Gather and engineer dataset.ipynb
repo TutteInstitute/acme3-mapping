{
 "cells": [
  {
   "cell_type": "markdown",
   "id": "5ccf48b4-85d6-49bd-8a38-dad6460aa45e",
   "metadata": {},
   "source": [
    "# Gather and engineer the ACME 3 dataset"
   ]
  },
  {
   "cell_type": "markdown",
   "id": "0503b1dc-76eb-411a-92f4-4889493d0da2",
   "metadata": {},
   "source": [
    "The ACME3 dataset is composed of [host-based](https://en.wikipedia.org/wiki/Host-based_intrusion_detection_system) telemetry gathered from a laboratory experiment.\n",
    "It was captured over the month of November 2023 by a research team at the Lawrence Livermore National Laboratory.\n",
    "The data was collected on a small general-purpose Windows network built on AWS for this purpose,\n",
    "and equipped with a [Microsoft Domain Controller](https://en.wikipedia.org/wiki/Domain_controller_(Windows)) to make it look and behave closer to an enterprise network.\n",
    "Collaborators of the data collection team were invited to come and do what they could of their work on this network,\n",
    "so as to generate natural user activity\n",
    "(as opposed to simulated user activity, which is often used for such experiments).\n",
    "The team used the open-source [Wintap](https://github.com/LLNL/Wintap) to generate and collect the telemetry.\n",
    "The researchers also deployed bespoke [Putty SSH clients](https://www.putty.org/) modified to behave like [backdoored](https://en.wikipedia.org/wiki/Backdoor_(computing)) software,\n",
    "naming it cannily as `PuttyX.exe`,\n",
    "to capture its behaviour as _malicious activity_."
   ]
  },
  {
   "cell_type": "markdown",
   "id": "581ee036-f81b-4773-8e9e-305461db393f",
   "metadata": {},
   "source": [
    "In this series of notebooks, we will embed subsets of this telemetry into vector spaces and draw _data maps_ of these embeddings.\n",
    "The goal is to build multiple perspectives towards gaining an understanding of the interplay between the processes whose behaviour was captured.\n",
    "We will not focus on the detection of PuttyX activity."
   ]
  },
  {
   "cell_type": "markdown",
   "id": "31949539-9422-43ef-ac7c-7faa4c650d34",
   "metadata": {},
   "source": [
    "---\n",
    "\n",
    "**Goals of this notebook**\n",
    "\n",
    "1. Download the main ACME3 summary dataset.\n",
    "2. Engineer the data subset in support to these experiments.\n",
    "\n",
    "---"
   ]
  },
  {
   "cell_type": "code",
   "execution_count": 1,
   "id": "51448224-cfaa-4810-9d75-1c1af4e64d9c",
   "metadata": {},
   "outputs": [],
   "source": [
    "import duckdb\n",
    "import numpy as np\n",
    "import os\n",
    "import pandas as pd\n",
    "import re\n",
    "import requests as rq\n",
    "import tarfile\n",
    "from tqdm.auto import tqdm"
   ]
  },
  {
   "cell_type": "markdown",
   "id": "e052f3f2-0be8-450c-b39a-93f58594be10",
   "metadata": {},
   "source": [
    "The ACME3 dataset has been released as open data, under [this license](https://www.llnl.gov/disclaimer).\n",
    "One can gather the whole raw data,\n",
    "the the data curators have put together a _summary dataset_ that assembles all the information we will focus on today.\n",
    "The whole data archive weighs in not unreasonably at 14 GB."
   ]
  },
  {
   "cell_type": "code",
   "execution_count": 2,
   "id": "89f0f8fa-b7a4-4e7b-b3b3-f3839764e06c",
   "metadata": {},
   "outputs": [
    {
     "name": "stdout",
     "output_type": "stream",
     "text": [
      "ACME3 dataset in place\n"
     ]
    }
   ],
   "source": [
    "MB = 1 << 20\n",
    "with rq.get(\"https://gdo168.llnl.gov/data/ACME-2023/stdview-20231105-20231120.tar\", stream=True) as r:\n",
    "    assert r.ok and re.match(r\"^[0-9]+$\", r.headers.get(\"Content-Length\", \"n/a\"))\n",
    "    size_acme3 = int(r.headers[\"Content-Length\"])\n",
    "    if os.path.isfile(\"acme3.tar\") and os.path.getsize(\"acme3.tar\") == size_acme3:\n",
    "        print(\"ACME3 dataset in place\")\n",
    "    else:\n",
    "        with open(\"acme3.tar\", \"wb\") as file, tqdm(desc=\"Download\", total=size_acme3, unit_scale=True, unit=\"\") as progress:\n",
    "            for chunk in r.iter_content(chunk_size=4 * MB):\n",
    "                file.write(chunk)\n",
    "                progress.update(len(chunk))"
   ]
  },
  {
   "cell_type": "markdown",
   "id": "d807d2b2-f3e3-4d4c-9008-2c2e1d39d7c3",
   "metadata": {},
   "source": [
    "Host-based telemetry is actually a collection of many telemetry streams,\n",
    "detailing respectively how the processes running on the hosts of the network interact with the various IT resources available.\n",
    "We will focus on two such streams:\n",
    "\n",
    "1. The main stream of process instances, of which we mean to analyze _command lines_.\n",
    "2. The stream of _code image load events_, by which processes establish their capabilities by sourcing various subsets of system APIs."
   ]
  },
  {
   "cell_type": "markdown",
   "id": "e00f0b88-c3cf-4d45-a70f-2a0174602ec9",
   "metadata": {},
   "source": [
    "An important aspect of host-based data analysis is that the host-based agent is also a user-mode process.\n",
    "As such, it interacts with all the processes of a system to achieve its purpose,\n",
    "and will store the telemetry it generates either in local files or to a central database accessed over the network.\n",
    "It thus makes sense to try and exclude the telemetry events generated by the agent itself.\n",
    "For the two telemetry streams we are interested in,\n",
    "this entails tracking the _child processes_ of the agent processes,\n",
    "so as to discard their related telemetry events."
   ]
  },
  {
   "cell_type": "code",
   "execution_count": 3,
   "id": "70c64203-483a-493f-98bd-6d657f09bfb4",
   "metadata": {},
   "outputs": [
    {
     "data": {
      "application/vnd.jupyter.widget-view+json": {
       "model_id": "0a644c7198184c21994845f22d667ea2",
       "version_major": 2,
       "version_minor": 0
      },
      "text/plain": [
       "  0%|          | 0/3 [00:00<?, ?it/s]"
      ]
     },
     "metadata": {},
     "output_type": "display_data"
    }
   ],
   "source": [
    "db = duckdb.connect(\":memory:\")\n",
    "with tarfile.open(\"acme3.tar\", mode=\"r\") as archive:\n",
    "    for table in tqdm([\"process\", \"process_image_load\", \"process_path\"]):\n",
    "        path = f\"stdview-20231105-20231120/{table}.parquet\"\n",
    "        archive.extract(path, set_attrs=False, filter=lambda x, _: x)\n",
    "        db.execute(f\"create or replace view {table} as select * from read_parquet('{path}')\")"
   ]
  },
  {
   "cell_type": "markdown",
   "id": "6311b716-1a56-4dbf-9852-2b6bef097874",
   "metadata": {},
   "source": [
    "We use [DuckDB](https://duckdb.org/) for easy peasy data engineering."
   ]
  },
  {
   "cell_type": "code",
   "execution_count": 4,
   "id": "e0005fec-2b8b-48cb-a9eb-02d74ff9a9d5",
   "metadata": {},
   "outputs": [],
   "source": [
    "%load_ext magic_duckdb\n",
    "%dql -co db"
   ]
  },
  {
   "cell_type": "raw",
   "id": "f51c3bde-b0e9-4515-9f92-12228d7bbd98",
   "metadata": {},
   "source": [
    "%%dql\n",
    "describe process"
   ]
  },
  {
   "cell_type": "raw",
   "id": "7456f272-388d-44b1-a7dc-056b78c5aad9",
   "metadata": {},
   "source": [
    "%%dql\n",
    "describe process_path"
   ]
  },
  {
   "cell_type": "markdown",
   "id": "01e9464a-f442-4959-b71e-f5fd4215e7bf",
   "metadata": {},
   "source": [
    "I am not going to describe the full schema and semantics of the necessary data tables,\n",
    "but here are a few notes in service of our purposes:\n",
    "\n",
    "1. The process instances are summarized in a table named `process`.\n",
    "    1. The instances are respectively uniquely identified by the `pid_hash` field.\n",
    "    2. The original process command lines are not stored: only the command line tails are, under the `args` field. We can reconstitute a normalized approximation by concatenating the `process_path` and `args` fields, separated with a space.\n",
    "1. The `process_path` table enumerates the all the paths of the process trees of each host respectively, starting from the node corresponding to each process instances over and up to the root of its tree.\n",
    "    1. We want to discard events related to the activity of two telemetry-generating agents: Wintap and Amazon's own **SSM** agent.\n",
    "    2. We can look up any Wintap-related process in string representations of the process paths (as it would carry the `wintap` substring). Same for SSM, identified with the `amazon-ssm` substring.\n",
    "    3. The paths marking unwanted telemetry tie back to `pid_hash` identifiers.\n",
    "1. The data capture laboratory was stood up a few weeks before the data collection period started, so as to be set up for the experiment. We discard all the information collected outside of the nominal data capture period.\n",
    "1. Code image loading events are collected in table `process_image_load`. We restrict to the events not generated by the telemetry agents' own activity.\n",
    "\n",
    "<a id=\"sql\"></a>"
   ]
  },
  {
   "cell_type": "code",
   "execution_count": 5,
   "id": "09ac9f06-8dca-4655-9092-f6740617649d",
   "metadata": {},
   "outputs": [
    {
     "data": {
      "text/html": [
       "<div>\n",
       "<style scoped>\n",
       "    .dataframe tbody tr th:only-of-type {\n",
       "        vertical-align: middle;\n",
       "    }\n",
       "\n",
       "    .dataframe tbody tr th {\n",
       "        vertical-align: top;\n",
       "    }\n",
       "\n",
       "    .dataframe thead th {\n",
       "        text-align: right;\n",
       "    }\n",
       "</style>\n",
       "<table border=\"1\" class=\"dataframe\">\n",
       "  <thead>\n",
       "    <tr style=\"text-align: right;\">\n",
       "      <th></th>\n",
       "      <th>pid_hash</th>\n",
       "      <th>parent_pid_hash</th>\n",
       "      <th>timestamp</th>\n",
       "      <th>hostname</th>\n",
       "      <th>name</th>\n",
       "      <th>cmdline</th>\n",
       "      <th>ptree</th>\n",
       "    </tr>\n",
       "  </thead>\n",
       "  <tbody>\n",
       "    <tr>\n",
       "      <th>0</th>\n",
       "      <td>3F8784056EB55BB295DCAB8C9344254A</td>\n",
       "      <td>BA7EC59E059F8E7B9F75D3BD0D3E85FE</td>\n",
       "      <td>2023-11-05 00:00:00.314092-07:00</td>\n",
       "      <td>ACME-HH-YIM</td>\n",
       "      <td>wsqmcons.exe</td>\n",
       "      <td>\"c:\\windows\\system32\\wsqmcons.exe\"</td>\n",
       "      <td>=wsqmcons.exe-&gt;svchost.exe-&gt;services.exe-&gt;wini...</td>\n",
       "    </tr>\n",
       "    <tr>\n",
       "      <th>1</th>\n",
       "      <td>B64CB859912B447E83D8C8E619ABCF93</td>\n",
       "      <td>50F07B711DB04C89FF3922CD15C2647B</td>\n",
       "      <td>2023-11-05 00:00:00.377725-07:00</td>\n",
       "      <td>ACME-HH-UWI</td>\n",
       "      <td>wsqmcons.exe</td>\n",
       "      <td>\"c:\\windows\\system32\\wsqmcons.exe\"</td>\n",
       "      <td>=wsqmcons.exe-&gt;svchost.exe-&gt;services.exe-&gt;wini...</td>\n",
       "    </tr>\n",
       "    <tr>\n",
       "      <th>2</th>\n",
       "      <td>921D6E35B58C5CA571A55D96C16A5D6A</td>\n",
       "      <td>981581F0C573975A7D576645C5B731F0</td>\n",
       "      <td>2023-11-05 00:00:00.436069-07:00</td>\n",
       "      <td>ACME-HH-HGC</td>\n",
       "      <td>wsqmcons.exe</td>\n",
       "      <td>\"c:\\windows\\system32\\wsqmcons.exe\"</td>\n",
       "      <td>=wsqmcons.exe-&gt;svchost.exe-&gt;services.exe-&gt;wini...</td>\n",
       "    </tr>\n",
       "    <tr>\n",
       "      <th>3</th>\n",
       "      <td>22E2B0D56B1F636B09CBDC86CCDBBD97</td>\n",
       "      <td>483B551ED4FD3BF742CBBD9B343E8117</td>\n",
       "      <td>2023-11-05 00:00:00.586099-07:00</td>\n",
       "      <td>ACME-WS-AZU</td>\n",
       "      <td>wsqmcons.exe</td>\n",
       "      <td>\"c:\\windows\\system32\\wsqmcons.exe\"</td>\n",
       "      <td>=wsqmcons.exe-&gt;svchost.exe-&gt;services.exe-&gt;wini...</td>\n",
       "    </tr>\n",
       "    <tr>\n",
       "      <th>4</th>\n",
       "      <td>F1F1B598005B90EB45FBF77E74DDFCB8</td>\n",
       "      <td>803022DFF3341FF443B9D49E08D82558</td>\n",
       "      <td>2023-11-05 00:00:00.731733-07:00</td>\n",
       "      <td>ACME-HH-AKA</td>\n",
       "      <td>wsqmcons.exe</td>\n",
       "      <td>\"c:\\windows\\system32\\wsqmcons.exe\"</td>\n",
       "      <td>=wsqmcons.exe-&gt;svchost.exe-&gt;services.exe-&gt;wini...</td>\n",
       "    </tr>\n",
       "    <tr>\n",
       "      <th>...</th>\n",
       "      <td>...</td>\n",
       "      <td>...</td>\n",
       "      <td>...</td>\n",
       "      <td>...</td>\n",
       "      <td>...</td>\n",
       "      <td>...</td>\n",
       "      <td>...</td>\n",
       "    </tr>\n",
       "    <tr>\n",
       "      <th>136701</th>\n",
       "      <td>11D2905584ADEBDB004263B08D3706A1</td>\n",
       "      <td>5B1453B37F079EC6AA910E820C5B6BF1</td>\n",
       "      <td>2023-11-20 15:54:14.616846-08:00</td>\n",
       "      <td>ACME-HH-IKA</td>\n",
       "      <td>usoclient.exe</td>\n",
       "      <td>\"c:\\windows\\system32\\usoclient.exe\" startscan</td>\n",
       "      <td>=usoclient.exe-&gt;svchost.exe-&gt;services.exe-&gt;win...</td>\n",
       "    </tr>\n",
       "    <tr>\n",
       "      <th>136702</th>\n",
       "      <td>D8DC51881EDB5C6F7D6239E3DE1A5D93</td>\n",
       "      <td>E283B625D417A1C9584B2D6C9D0C364F</td>\n",
       "      <td>2023-11-20 15:54:14.638486-08:00</td>\n",
       "      <td>ACME-HH-IKA</td>\n",
       "      <td>mousocoreworker.exe</td>\n",
       "      <td>\"c:\\windows\\system32\\mousocoreworker.exe\" -emb...</td>\n",
       "      <td>=mousocoreworker.exe-&gt;svchost.exe-&gt;services.ex...</td>\n",
       "    </tr>\n",
       "    <tr>\n",
       "      <th>136703</th>\n",
       "      <td>521490D4B45E5BDC4BD2CA7081BC06A7</td>\n",
       "      <td>6A37E544F4D9E91016071993B3DC4103</td>\n",
       "      <td>2023-11-20 15:55:23.333011-08:00</td>\n",
       "      <td>ACME-HH-AZH</td>\n",
       "      <td>usoclient.exe</td>\n",
       "      <td>\"c:\\windows\\system32\\usoclient.exe\" startscan</td>\n",
       "      <td>=usoclient.exe-&gt;svchost.exe-&gt;services.exe-&gt;win...</td>\n",
       "    </tr>\n",
       "    <tr>\n",
       "      <th>136704</th>\n",
       "      <td>D2211D916C3414FDFBD2663BB9051C84</td>\n",
       "      <td>2C2DB3363D7539099C7869C6BFEEED6B</td>\n",
       "      <td>2023-11-20 15:55:23.349693-08:00</td>\n",
       "      <td>ACME-HH-AZH</td>\n",
       "      <td>mousocoreworker.exe</td>\n",
       "      <td>\"c:\\windows\\system32\\mousocoreworker.exe\" -emb...</td>\n",
       "      <td>=mousocoreworker.exe-&gt;svchost.exe-&gt;services.ex...</td>\n",
       "    </tr>\n",
       "    <tr>\n",
       "      <th>136705</th>\n",
       "      <td>73917C5EF988165232D5F62B384F829E</td>\n",
       "      <td>5B1453B37F079EC6AA910E820C5B6BF1</td>\n",
       "      <td>2023-11-20 15:57:56.983102-08:00</td>\n",
       "      <td>ACME-HH-IKA</td>\n",
       "      <td>rundll32.exe</td>\n",
       "      <td>\"c:\\windows\\system32\\rundll32.exe\" c:\\windows\\...</td>\n",
       "      <td>=rundll32.exe-&gt;svchost.exe-&gt;services.exe-&gt;wini...</td>\n",
       "    </tr>\n",
       "  </tbody>\n",
       "</table>\n",
       "<p>136706 rows × 7 columns</p>\n",
       "</div>"
      ],
      "text/plain": [
       "                                pid_hash                   parent_pid_hash  \\\n",
       "0       3F8784056EB55BB295DCAB8C9344254A  BA7EC59E059F8E7B9F75D3BD0D3E85FE   \n",
       "1       B64CB859912B447E83D8C8E619ABCF93  50F07B711DB04C89FF3922CD15C2647B   \n",
       "2       921D6E35B58C5CA571A55D96C16A5D6A  981581F0C573975A7D576645C5B731F0   \n",
       "3       22E2B0D56B1F636B09CBDC86CCDBBD97  483B551ED4FD3BF742CBBD9B343E8117   \n",
       "4       F1F1B598005B90EB45FBF77E74DDFCB8  803022DFF3341FF443B9D49E08D82558   \n",
       "...                                  ...                               ...   \n",
       "136701  11D2905584ADEBDB004263B08D3706A1  5B1453B37F079EC6AA910E820C5B6BF1   \n",
       "136702  D8DC51881EDB5C6F7D6239E3DE1A5D93  E283B625D417A1C9584B2D6C9D0C364F   \n",
       "136703  521490D4B45E5BDC4BD2CA7081BC06A7  6A37E544F4D9E91016071993B3DC4103   \n",
       "136704  D2211D916C3414FDFBD2663BB9051C84  2C2DB3363D7539099C7869C6BFEEED6B   \n",
       "136705  73917C5EF988165232D5F62B384F829E  5B1453B37F079EC6AA910E820C5B6BF1   \n",
       "\n",
       "                              timestamp     hostname                 name  \\\n",
       "0      2023-11-05 00:00:00.314092-07:00  ACME-HH-YIM         wsqmcons.exe   \n",
       "1      2023-11-05 00:00:00.377725-07:00  ACME-HH-UWI         wsqmcons.exe   \n",
       "2      2023-11-05 00:00:00.436069-07:00  ACME-HH-HGC         wsqmcons.exe   \n",
       "3      2023-11-05 00:00:00.586099-07:00  ACME-WS-AZU         wsqmcons.exe   \n",
       "4      2023-11-05 00:00:00.731733-07:00  ACME-HH-AKA         wsqmcons.exe   \n",
       "...                                 ...          ...                  ...   \n",
       "136701 2023-11-20 15:54:14.616846-08:00  ACME-HH-IKA        usoclient.exe   \n",
       "136702 2023-11-20 15:54:14.638486-08:00  ACME-HH-IKA  mousocoreworker.exe   \n",
       "136703 2023-11-20 15:55:23.333011-08:00  ACME-HH-AZH        usoclient.exe   \n",
       "136704 2023-11-20 15:55:23.349693-08:00  ACME-HH-AZH  mousocoreworker.exe   \n",
       "136705 2023-11-20 15:57:56.983102-08:00  ACME-HH-IKA         rundll32.exe   \n",
       "\n",
       "                                                  cmdline  \\\n",
       "0                      \"c:\\windows\\system32\\wsqmcons.exe\"   \n",
       "1                      \"c:\\windows\\system32\\wsqmcons.exe\"   \n",
       "2                      \"c:\\windows\\system32\\wsqmcons.exe\"   \n",
       "3                      \"c:\\windows\\system32\\wsqmcons.exe\"   \n",
       "4                      \"c:\\windows\\system32\\wsqmcons.exe\"   \n",
       "...                                                   ...   \n",
       "136701      \"c:\\windows\\system32\\usoclient.exe\" startscan   \n",
       "136702  \"c:\\windows\\system32\\mousocoreworker.exe\" -emb...   \n",
       "136703      \"c:\\windows\\system32\\usoclient.exe\" startscan   \n",
       "136704  \"c:\\windows\\system32\\mousocoreworker.exe\" -emb...   \n",
       "136705  \"c:\\windows\\system32\\rundll32.exe\" c:\\windows\\...   \n",
       "\n",
       "                                                    ptree  \n",
       "0       =wsqmcons.exe->svchost.exe->services.exe->wini...  \n",
       "1       =wsqmcons.exe->svchost.exe->services.exe->wini...  \n",
       "2       =wsqmcons.exe->svchost.exe->services.exe->wini...  \n",
       "3       =wsqmcons.exe->svchost.exe->services.exe->wini...  \n",
       "4       =wsqmcons.exe->svchost.exe->services.exe->wini...  \n",
       "...                                                   ...  \n",
       "136701  =usoclient.exe->svchost.exe->services.exe->win...  \n",
       "136702  =mousocoreworker.exe->svchost.exe->services.ex...  \n",
       "136703  =usoclient.exe->svchost.exe->services.exe->win...  \n",
       "136704  =mousocoreworker.exe->svchost.exe->services.ex...  \n",
       "136705  =rundll32.exe->svchost.exe->services.exe->wini...  \n",
       "\n",
       "[136706 rows x 7 columns]"
      ]
     },
     "execution_count": 5,
     "metadata": {},
     "output_type": "execute_result"
    }
   ],
   "source": [
    "%%dql -o process_filtered\n",
    "select\n",
    "    p.pid_hash,\n",
    "    p.parent_pid_hash,\n",
    "    p.process_started as timestamp,\n",
    "    p.hostname,\n",
    "    p.process_name as name,\n",
    "    trim('\"' || p.process_path || '\" ' || coalesce(p.args, '')) as cmdline,\n",
    "    pp.ptree\n",
    "from process as p\n",
    "inner join process_path as pp using (pid_hash)\n",
    "where     pp.ptree not like '%wintap%'\n",
    "      and pp.ptree not like '%amazon-ssm%'\n",
    "      and p.process_started >= '2023-11-05'::timestamp\n",
    "      and p.process_started = p.first_seen\n",
    "order by p.process_started, p.hostname"
   ]
  },
  {
   "cell_type": "markdown",
   "id": "00aa3bc5-3cfa-4cdf-9bff-34764bd1fb44",
   "metadata": {},
   "source": [
    "<a id=\"imageloads\"></a>"
   ]
  },
  {
   "cell_type": "code",
   "execution_count": 6,
   "id": "a55ba5b2-0fd4-47a4-98f9-f7c866bf215e",
   "metadata": {},
   "outputs": [
    {
     "data": {
      "text/html": [
       "<div>\n",
       "<style scoped>\n",
       "    .dataframe tbody tr th:only-of-type {\n",
       "        vertical-align: middle;\n",
       "    }\n",
       "\n",
       "    .dataframe tbody tr th {\n",
       "        vertical-align: top;\n",
       "    }\n",
       "\n",
       "    .dataframe thead th {\n",
       "        text-align: right;\n",
       "    }\n",
       "</style>\n",
       "<table border=\"1\" class=\"dataframe\">\n",
       "  <thead>\n",
       "    <tr style=\"text-align: right;\">\n",
       "      <th></th>\n",
       "      <th>pid_hash</th>\n",
       "      <th>filename</th>\n",
       "      <th>timestamp</th>\n",
       "    </tr>\n",
       "  </thead>\n",
       "  <tbody>\n",
       "    <tr>\n",
       "      <th>0</th>\n",
       "      <td>3F8784056EB55BB295DCAB8C9344254A</td>\n",
       "      <td>c:\\windows\\system32\\wsqmcons.exe</td>\n",
       "      <td>2023-11-05 00:00:00.314910-07:00</td>\n",
       "    </tr>\n",
       "    <tr>\n",
       "      <th>1</th>\n",
       "      <td>3F8784056EB55BB295DCAB8C9344254A</td>\n",
       "      <td>c:\\windows\\system32\\ntdll.dll</td>\n",
       "      <td>2023-11-05 00:00:00.314924-07:00</td>\n",
       "    </tr>\n",
       "    <tr>\n",
       "      <th>2</th>\n",
       "      <td>3F8784056EB55BB295DCAB8C9344254A</td>\n",
       "      <td>c:\\windows\\system32\\kernel32.dll</td>\n",
       "      <td>2023-11-05 00:00:00.315711-07:00</td>\n",
       "    </tr>\n",
       "    <tr>\n",
       "      <th>3</th>\n",
       "      <td>3F8784056EB55BB295DCAB8C9344254A</td>\n",
       "      <td>c:\\windows\\system32\\kernelbase.dll</td>\n",
       "      <td>2023-11-05 00:00:00.315864-07:00</td>\n",
       "    </tr>\n",
       "    <tr>\n",
       "      <th>4</th>\n",
       "      <td>3F8784056EB55BB295DCAB8C9344254A</td>\n",
       "      <td>c:\\windows\\system32\\msvcrt.dll</td>\n",
       "      <td>2023-11-05 00:00:00.317407-07:00</td>\n",
       "    </tr>\n",
       "    <tr>\n",
       "      <th>...</th>\n",
       "      <td>...</td>\n",
       "      <td>...</td>\n",
       "      <td>...</td>\n",
       "    </tr>\n",
       "    <tr>\n",
       "      <th>1606258</th>\n",
       "      <td>D2211D916C3414FDFBD2663BB9051C84</td>\n",
       "      <td>c:\\windows\\system32\\npmproxy.dll</td>\n",
       "      <td>2023-11-20 15:55:23.410633-08:00</td>\n",
       "    </tr>\n",
       "    <tr>\n",
       "      <th>1606259</th>\n",
       "      <td>D2211D916C3414FDFBD2663BB9051C84</td>\n",
       "      <td>c:\\windows\\system32\\wintypes.dll</td>\n",
       "      <td>2023-11-20 15:55:23.413362-08:00</td>\n",
       "    </tr>\n",
       "    <tr>\n",
       "      <th>1606260</th>\n",
       "      <td>D2211D916C3414FDFBD2663BB9051C84</td>\n",
       "      <td>c:\\windows\\system32\\taskschd.dll</td>\n",
       "      <td>2023-11-20 15:55:23.418445-08:00</td>\n",
       "    </tr>\n",
       "    <tr>\n",
       "      <th>1606261</th>\n",
       "      <td>D2211D916C3414FDFBD2663BB9051C84</td>\n",
       "      <td>c:\\windows\\system32\\sspicli.dll</td>\n",
       "      <td>2023-11-20 15:55:23.418901-08:00</td>\n",
       "    </tr>\n",
       "    <tr>\n",
       "      <th>1606262</th>\n",
       "      <td>D2211D916C3414FDFBD2663BB9051C84</td>\n",
       "      <td>c:\\windows\\system32\\xmllite.dll</td>\n",
       "      <td>2023-11-20 15:55:23.421222-08:00</td>\n",
       "    </tr>\n",
       "  </tbody>\n",
       "</table>\n",
       "<p>1606263 rows × 3 columns</p>\n",
       "</div>"
      ],
      "text/plain": [
       "                                 pid_hash                            filename  \\\n",
       "0        3F8784056EB55BB295DCAB8C9344254A    c:\\windows\\system32\\wsqmcons.exe   \n",
       "1        3F8784056EB55BB295DCAB8C9344254A       c:\\windows\\system32\\ntdll.dll   \n",
       "2        3F8784056EB55BB295DCAB8C9344254A    c:\\windows\\system32\\kernel32.dll   \n",
       "3        3F8784056EB55BB295DCAB8C9344254A  c:\\windows\\system32\\kernelbase.dll   \n",
       "4        3F8784056EB55BB295DCAB8C9344254A      c:\\windows\\system32\\msvcrt.dll   \n",
       "...                                   ...                                 ...   \n",
       "1606258  D2211D916C3414FDFBD2663BB9051C84    c:\\windows\\system32\\npmproxy.dll   \n",
       "1606259  D2211D916C3414FDFBD2663BB9051C84    c:\\windows\\system32\\wintypes.dll   \n",
       "1606260  D2211D916C3414FDFBD2663BB9051C84    c:\\windows\\system32\\taskschd.dll   \n",
       "1606261  D2211D916C3414FDFBD2663BB9051C84     c:\\windows\\system32\\sspicli.dll   \n",
       "1606262  D2211D916C3414FDFBD2663BB9051C84     c:\\windows\\system32\\xmllite.dll   \n",
       "\n",
       "                               timestamp  \n",
       "0       2023-11-05 00:00:00.314910-07:00  \n",
       "1       2023-11-05 00:00:00.314924-07:00  \n",
       "2       2023-11-05 00:00:00.315711-07:00  \n",
       "3       2023-11-05 00:00:00.315864-07:00  \n",
       "4       2023-11-05 00:00:00.317407-07:00  \n",
       "...                                  ...  \n",
       "1606258 2023-11-20 15:55:23.410633-08:00  \n",
       "1606259 2023-11-20 15:55:23.413362-08:00  \n",
       "1606260 2023-11-20 15:55:23.418445-08:00  \n",
       "1606261 2023-11-20 15:55:23.418901-08:00  \n",
       "1606262 2023-11-20 15:55:23.421222-08:00  \n",
       "\n",
       "[1606263 rows x 3 columns]"
      ]
     },
     "execution_count": 6,
     "metadata": {},
     "output_type": "execute_result"
    }
   ],
   "source": [
    "%%dql -o image_loads\n",
    "select\n",
    "    pid_hash,\n",
    "    filename,\n",
    "    first_seen as timestamp\n",
    "from process_image_load\n",
    "inner join process_filtered using (pid_hash)\n",
    "order by timestamp, pid_hash"
   ]
  },
  {
   "cell_type": "markdown",
   "id": "13388221-b6f5-4ef3-805e-ba8a82c9c456",
   "metadata": {},
   "source": [
    "We save the tables we just gathered as local Parquet files."
   ]
  },
  {
   "cell_type": "code",
   "execution_count": 7,
   "id": "cb5cce7d-400c-4a9c-9b37-02c476939214",
   "metadata": {},
   "outputs": [],
   "source": [
    "process_filtered.to_parquet('process_filtered.parquet', compression=\"zstd\")\n",
    "image_loads.to_parquet('image_loads.parquet', compression=\"zstd\")"
   ]
  },
  {
   "cell_type": "markdown",
   "id": "33a1e354-5f20-4905-bb09-a0a19ca1efad",
   "metadata": {},
   "source": [
    "Q: how much storage space for the data we require?"
   ]
  },
  {
   "cell_type": "code",
   "execution_count": 8,
   "id": "ec896560-ce9c-4c6c-b942-ba1650a9ec1a",
   "metadata": {},
   "outputs": [
    {
     "data": {
      "text/html": [
       "<div>\n",
       "<style scoped>\n",
       "    .dataframe tbody tr th:only-of-type {\n",
       "        vertical-align: middle;\n",
       "    }\n",
       "\n",
       "    .dataframe tbody tr th {\n",
       "        vertical-align: top;\n",
       "    }\n",
       "\n",
       "    .dataframe thead th {\n",
       "        text-align: right;\n",
       "    }\n",
       "</style>\n",
       "<table border=\"1\" class=\"dataframe\">\n",
       "  <thead>\n",
       "    <tr style=\"text-align: right;\">\n",
       "      <th></th>\n",
       "      <th>name</th>\n",
       "      <th>size</th>\n",
       "    </tr>\n",
       "  </thead>\n",
       "  <tbody>\n",
       "    <tr>\n",
       "      <th>0</th>\n",
       "      <td>image_loads.parquet</td>\n",
       "      <td>6169628</td>\n",
       "    </tr>\n",
       "    <tr>\n",
       "      <th>1</th>\n",
       "      <td>process_filtered.parquet</td>\n",
       "      <td>5315641</td>\n",
       "    </tr>\n",
       "  </tbody>\n",
       "</table>\n",
       "</div>"
      ],
      "text/plain": [
       "                       name     size\n",
       "0       image_loads.parquet  6169628\n",
       "1  process_filtered.parquet  5315641"
      ]
     },
     "execution_count": 8,
     "metadata": {},
     "output_type": "execute_result"
    }
   ],
   "source": [
    "pd.DataFrame(\n",
    "    [\n",
    "        (name, os.path.getsize(name))\n",
    "        for name in os.listdir(\".\")\n",
    "        if name in {\"image_loads.parquet\", \"process_filtered.parquet\"}\n",
    "    ],\n",
    "    columns=[\"name\", \"size\"]\n",
    ")"
   ]
  },
  {
   "cell_type": "markdown",
   "id": "f0f8f37f-702f-4c2a-b6d1-eb185b49105d",
   "metadata": {},
   "source": [
    "A: not much at all."
   ]
  },
  {
   "cell_type": "markdown",
   "id": "ee396481-edfc-485c-b1a0-f3527adb0a4d",
   "metadata": {},
   "source": [
    "Unless you care about exploring the dataset at larger length,\n",
    "you can now remove the Tar file we gathered and the Parquet files we extracted from it.\n",
    "To do so, you may change the next cell to a code cell and run it."
   ]
  },
  {
   "cell_type": "raw",
   "id": "5ec8d527-3fb8-4ff2-92d8-bd007790d99e",
   "metadata": {},
   "source": [
    "import shutil\n",
    "shutil.rmtree(\"stdview-20231105-20231120\")\n",
    "os.remove(\"acme3.tar\")"
   ]
  }
 ],
 "metadata": {
  "kernelspec": {
   "display_name": "Python 3 (ipykernel)",
   "language": "python",
   "name": "python3"
  },
  "language_info": {
   "codemirror_mode": {
    "name": "ipython",
    "version": 3
   },
   "file_extension": ".py",
   "mimetype": "text/x-python",
   "name": "python",
   "nbconvert_exporter": "python",
   "pygments_lexer": "ipython3",
   "version": "3.12.4"
  }
 },
 "nbformat": 4,
 "nbformat_minor": 5
}
